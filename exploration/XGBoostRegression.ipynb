{
 "cells": [
  {
   "cell_type": "markdown",
   "metadata": {},
   "source": [
    "# XGBoost Regression"
   ]
  },
  {
   "cell_type": "code",
   "execution_count": 1,
   "metadata": {},
   "outputs": [
    {
     "ename": "NameError",
     "evalue": "name 'pd' is not defined",
     "output_type": "error",
     "traceback": [
      "\u001b[0;31m---------------------------------------------------------------------------\u001b[0m",
      "\u001b[0;31mNameError\u001b[0m                                 Traceback (most recent call last)",
      "\u001b[0;32m<ipython-input-1-2dab0088ebe7>\u001b[0m in \u001b[0;36m<module>\u001b[0;34m()\u001b[0m\n\u001b[1;32m      5\u001b[0m \u001b[0;31m#because the y variable is highly skewed we apply the log transformation\u001b[0m\u001b[0;34m\u001b[0m\u001b[0;34m\u001b[0m\u001b[0m\n\u001b[1;32m      6\u001b[0m \u001b[0mos\u001b[0m\u001b[0;34m.\u001b[0m\u001b[0menviron\u001b[0m\u001b[0;34m[\u001b[0m\u001b[0;34m\"OMP_NUM_THREADS\"\u001b[0m\u001b[0;34m]\u001b[0m \u001b[0;34m=\u001b[0m \u001b[0;34m\"2\"\u001b[0m  \u001b[0;31m# or to whatever you want\u001b[0m\u001b[0;34m\u001b[0m\u001b[0m\n\u001b[0;32m----> 7\u001b[0;31m \u001b[0my\u001b[0m\u001b[0;34m=\u001b[0m\u001b[0mnp\u001b[0m\u001b[0;34m.\u001b[0m\u001b[0mlog\u001b[0m\u001b[0;34m(\u001b[0m\u001b[0mpd\u001b[0m\u001b[0;34m.\u001b[0m\u001b[0mtarget\u001b[0m\u001b[0;34m)\u001b[0m\u001b[0;34m\u001b[0m\u001b[0m\n\u001b[0m\u001b[1;32m      8\u001b[0m X_train, X_test, y_train, y_test = train_test_split(pd.data, y,\n\u001b[1;32m      9\u001b[0m                                                     test_size=0.15, random_state=111)\n",
      "\u001b[0;31mNameError\u001b[0m: name 'pd' is not defined"
     ]
    }
   ],
   "source": [
    "from sklearn.model_selection import train_test_split\n",
    "import numpy as np\n",
    "import os\n",
    "\n",
    "#because the y variable is highly skewed we apply the log transformation\n",
    "os.environ[\"OMP_NUM_THREADS\"] = \"2\"  # or to whatever you want\n",
    "y=np.log(pd.target)\n",
    "X_train, X_test, y_train, y_test = train_test_split(pd.data, y,\n",
    "                                                    test_size=0.15, random_state=111)"
   ]
  },
  {
   "cell_type": "code",
   "execution_count": null,
   "metadata": {},
   "outputs": [],
   "source": [
    "import xgboost as xgb\n",
    "#from xgboost.sklearn import XGBClassifier\n",
    "#from sklearn.model_selection import GridSearchCV\n",
    "\n",
    "clf=xgb.XGBRegressor(gamma=0,objective= \"reg:linear\",n_jobs=2)"
   ]
  },
  {
   "cell_type": "code",
   "execution_count": null,
   "metadata": {},
   "outputs": [],
   "source": [
    "from sklearn.metrics import mean_squared_error\n",
    "\n",
    "clf.fit(X_train,y_train)\n",
    "y_pred = clf.predict(X_test)\n",
    "print('score before gridsearch %r' % mean_squared_error(y_test, y_pred))"
   ]
  },
  {
   "cell_type": "markdown",
   "metadata": {},
   "source": [
    "## sklearn_parallel demo"
   ]
  },
  {
   "cell_type": "code",
   "execution_count": null,
   "metadata": {},
   "outputs": [],
   "source": [
    "import os\n",
    "\n",
    "if __name__ == \"__main__\":\n",
    "    # NOTE: on posix systems, this *has* to be here and in the\n",
    "    # `__name__ == \"__main__\"` clause to run XGBoost in parallel processes\n",
    "    # using fork, if XGBoost was built with OpenMP support. Otherwise, if you\n",
    "    # build XGBoost without OpenMP support, you can use fork, which is the\n",
    "    # default backend for joblib, and omit this.\n",
    "    try:\n",
    "        from multiprocessing import set_start_method\n",
    "    except ImportError:\n",
    "        raise ImportError(\"Unable to import multiprocessing.set_start_method.\"\n",
    "                          \" This example only runs on Python 3.4\")\n",
    "    set_start_method(\"forkserver\")\n",
    "\n",
    "    import numpy as np\n",
    "    from sklearn.model_selection import GridSearchCV\n",
    "    from sklearn.datasets import load_boston\n",
    "    import xgboost as xgb\n",
    "\n",
    "    rng = np.random.RandomState(31337)\n",
    "\n",
    "    print(\"Parallel Parameter optimization\")\n",
    "    boston = load_boston()\n",
    "\n",
    "    os.environ[\"OMP_NUM_THREADS\"] = \"2\"  # or to whatever you want\n",
    "    y = boston['target']\n",
    "    X = boston['data']\n",
    "    xgb_model = xgb.XGBRegressor()\n",
    "    clf = GridSearchCV(xgb_model, {'max_depth': [2, 4, 6],\n",
    "                                   'n_estimators': [50, 100, 200]}, verbose=1,\n",
    "                       n_jobs=2)\n",
    "    clf.fit(X, y)\n",
    "    print(clf.best_score_)\n",
    "    print(clf.best_params_)"
   ]
  },
  {
   "cell_type": "code",
   "execution_count": null,
   "metadata": {},
   "outputs": [],
   "source": []
  }
 ],
 "metadata": {
  "kernelspec": {
   "display_name": "Python 3",
   "language": "python",
   "name": "python3"
  },
  "language_info": {
   "codemirror_mode": {
    "name": "ipython",
    "version": 3
   },
   "file_extension": ".py",
   "mimetype": "text/x-python",
   "name": "python",
   "nbconvert_exporter": "python",
   "pygments_lexer": "ipython3",
   "version": "3.6.6"
  }
 },
 "nbformat": 4,
 "nbformat_minor": 2
}
