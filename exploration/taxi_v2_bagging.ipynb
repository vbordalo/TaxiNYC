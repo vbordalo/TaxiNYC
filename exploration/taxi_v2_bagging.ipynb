{
 "cells": [
  {
   "cell_type": "code",
   "execution_count": 1,
   "metadata": {},
   "outputs": [],
   "source": [
    "from pandas import read_feather, read_csv\n",
    "from pandas import DataFrame\n",
    "import numpy as np\n",
    "#from math import radians, cos, sin, asin, sqrt"
   ]
  },
  {
   "cell_type": "code",
   "execution_count": 2,
   "metadata": {},
   "outputs": [],
   "source": [
    "def distance(lat1, lng1, lat2, lng2):\n",
    "    #return distance as meter if you want km distance, remove \"* 1000\"\n",
    "    radius = 6371\n",
    "\n",
    "    dLat = (lat2-lat1) * np.pi / 180\n",
    "    dLng = (lng2-lng1) * np.pi / 180\n",
    "\n",
    "    lat1 = lat1 * np.pi / 180\n",
    "    lat2 = lat2 * np.pi / 180\n",
    "\n",
    "    val = np.sin(dLat/2) * np.sin(dLat/2) + np.sin(dLng/2)\\\n",
    "    * np.sin(dLng/2) * np.cos(lat1) * np.cos(lat2)    \n",
    "    ang = 2 * np.arctan2(np.sqrt(val), np.sqrt(1-val))\n",
    "    return radius * ang"
   ]
  },
  {
   "cell_type": "markdown",
   "metadata": {},
   "source": [
    "# Test Sample"
   ]
  },
  {
   "cell_type": "code",
   "execution_count": 3,
   "metadata": {},
   "outputs": [
    {
     "name": "stdout",
     "output_type": "stream",
     "text": [
      "(9914, 7)\n"
     ]
    },
    {
     "data": {
      "text/html": [
       "<div>\n",
       "<style scoped>\n",
       "    .dataframe tbody tr th:only-of-type {\n",
       "        vertical-align: middle;\n",
       "    }\n",
       "\n",
       "    .dataframe tbody tr th {\n",
       "        vertical-align: top;\n",
       "    }\n",
       "\n",
       "    .dataframe thead th {\n",
       "        text-align: right;\n",
       "    }\n",
       "</style>\n",
       "<table border=\"1\" class=\"dataframe\">\n",
       "  <thead>\n",
       "    <tr style=\"text-align: right;\">\n",
       "      <th></th>\n",
       "      <th>key</th>\n",
       "      <th>pickup_datetime</th>\n",
       "      <th>pickup_longitude</th>\n",
       "      <th>pickup_latitude</th>\n",
       "      <th>dropoff_longitude</th>\n",
       "      <th>dropoff_latitude</th>\n",
       "      <th>passenger_count</th>\n",
       "    </tr>\n",
       "  </thead>\n",
       "  <tbody>\n",
       "    <tr>\n",
       "      <th>0</th>\n",
       "      <td>2015-01-27 13:08:24.0000002</td>\n",
       "      <td>2015-01-27 13:08:24</td>\n",
       "      <td>-73.973320</td>\n",
       "      <td>40.763805</td>\n",
       "      <td>-73.981430</td>\n",
       "      <td>40.743835</td>\n",
       "      <td>1</td>\n",
       "    </tr>\n",
       "    <tr>\n",
       "      <th>1</th>\n",
       "      <td>2015-01-27 13:08:24.0000003</td>\n",
       "      <td>2015-01-27 13:08:24</td>\n",
       "      <td>-73.986862</td>\n",
       "      <td>40.719383</td>\n",
       "      <td>-73.998886</td>\n",
       "      <td>40.739201</td>\n",
       "      <td>1</td>\n",
       "    </tr>\n",
       "    <tr>\n",
       "      <th>2</th>\n",
       "      <td>2011-10-08 11:53:44.0000002</td>\n",
       "      <td>2011-10-08 11:53:44</td>\n",
       "      <td>-73.982524</td>\n",
       "      <td>40.751260</td>\n",
       "      <td>-73.979654</td>\n",
       "      <td>40.746139</td>\n",
       "      <td>1</td>\n",
       "    </tr>\n",
       "    <tr>\n",
       "      <th>3</th>\n",
       "      <td>2012-12-01 21:12:12.0000002</td>\n",
       "      <td>2012-12-01 21:12:12</td>\n",
       "      <td>-73.981160</td>\n",
       "      <td>40.767807</td>\n",
       "      <td>-73.990448</td>\n",
       "      <td>40.751635</td>\n",
       "      <td>1</td>\n",
       "    </tr>\n",
       "    <tr>\n",
       "      <th>4</th>\n",
       "      <td>2012-12-01 21:12:12.0000003</td>\n",
       "      <td>2012-12-01 21:12:12</td>\n",
       "      <td>-73.966046</td>\n",
       "      <td>40.789775</td>\n",
       "      <td>-73.988565</td>\n",
       "      <td>40.744427</td>\n",
       "      <td>1</td>\n",
       "    </tr>\n",
       "  </tbody>\n",
       "</table>\n",
       "</div>"
      ],
      "text/plain": [
       "                           key     pickup_datetime  pickup_longitude  \\\n",
       "0  2015-01-27 13:08:24.0000002 2015-01-27 13:08:24        -73.973320   \n",
       "1  2015-01-27 13:08:24.0000003 2015-01-27 13:08:24        -73.986862   \n",
       "2  2011-10-08 11:53:44.0000002 2011-10-08 11:53:44        -73.982524   \n",
       "3  2012-12-01 21:12:12.0000002 2012-12-01 21:12:12        -73.981160   \n",
       "4  2012-12-01 21:12:12.0000003 2012-12-01 21:12:12        -73.966046   \n",
       "\n",
       "   pickup_latitude  dropoff_longitude  dropoff_latitude  passenger_count  \n",
       "0        40.763805         -73.981430         40.743835                1  \n",
       "1        40.719383         -73.998886         40.739201                1  \n",
       "2        40.751260         -73.979654         40.746139                1  \n",
       "3        40.767807         -73.990448         40.751635                1  \n",
       "4        40.789775         -73.988565         40.744427                1  "
      ]
     },
     "execution_count": 3,
     "metadata": {},
     "output_type": "execute_result"
    }
   ],
   "source": [
    "# No missing values\n",
    "test_df = read_csv('test.csv', parse_dates=[\"pickup_datetime\"],\n",
    "                  infer_datetime_format=True)\n",
    "print(test_df.shape)\n",
    "test_df.head()"
   ]
  },
  {
   "cell_type": "code",
   "execution_count": 4,
   "metadata": {},
   "outputs": [
    {
     "data": {
      "text/html": [
       "<div>\n",
       "<style scoped>\n",
       "    .dataframe tbody tr th:only-of-type {\n",
       "        vertical-align: middle;\n",
       "    }\n",
       "\n",
       "    .dataframe tbody tr th {\n",
       "        vertical-align: top;\n",
       "    }\n",
       "\n",
       "    .dataframe thead th {\n",
       "        text-align: right;\n",
       "    }\n",
       "</style>\n",
       "<table border=\"1\" class=\"dataframe\">\n",
       "  <thead>\n",
       "    <tr style=\"text-align: right;\">\n",
       "      <th></th>\n",
       "      <th>pickup_longitude</th>\n",
       "      <th>pickup_latitude</th>\n",
       "      <th>dropoff_longitude</th>\n",
       "      <th>dropoff_latitude</th>\n",
       "      <th>passenger_count</th>\n",
       "    </tr>\n",
       "  </thead>\n",
       "  <tbody>\n",
       "    <tr>\n",
       "      <th>count</th>\n",
       "      <td>9914.000000</td>\n",
       "      <td>9914.000000</td>\n",
       "      <td>9914.000000</td>\n",
       "      <td>9914.000000</td>\n",
       "      <td>9914.000000</td>\n",
       "    </tr>\n",
       "    <tr>\n",
       "      <th>mean</th>\n",
       "      <td>-73.974722</td>\n",
       "      <td>40.751041</td>\n",
       "      <td>-73.973657</td>\n",
       "      <td>40.751743</td>\n",
       "      <td>1.671273</td>\n",
       "    </tr>\n",
       "    <tr>\n",
       "      <th>std</th>\n",
       "      <td>0.042774</td>\n",
       "      <td>0.033541</td>\n",
       "      <td>0.039072</td>\n",
       "      <td>0.035435</td>\n",
       "      <td>1.278747</td>\n",
       "    </tr>\n",
       "    <tr>\n",
       "      <th>min</th>\n",
       "      <td>-74.252193</td>\n",
       "      <td>40.573143</td>\n",
       "      <td>-74.263242</td>\n",
       "      <td>40.568973</td>\n",
       "      <td>1.000000</td>\n",
       "    </tr>\n",
       "    <tr>\n",
       "      <th>25%</th>\n",
       "      <td>-73.992501</td>\n",
       "      <td>40.736125</td>\n",
       "      <td>-73.991247</td>\n",
       "      <td>40.735254</td>\n",
       "      <td>1.000000</td>\n",
       "    </tr>\n",
       "    <tr>\n",
       "      <th>50%</th>\n",
       "      <td>-73.982326</td>\n",
       "      <td>40.753051</td>\n",
       "      <td>-73.980015</td>\n",
       "      <td>40.754065</td>\n",
       "      <td>1.000000</td>\n",
       "    </tr>\n",
       "    <tr>\n",
       "      <th>75%</th>\n",
       "      <td>-73.968013</td>\n",
       "      <td>40.767113</td>\n",
       "      <td>-73.964059</td>\n",
       "      <td>40.768757</td>\n",
       "      <td>2.000000</td>\n",
       "    </tr>\n",
       "    <tr>\n",
       "      <th>max</th>\n",
       "      <td>-72.986532</td>\n",
       "      <td>41.709555</td>\n",
       "      <td>-72.990963</td>\n",
       "      <td>41.696683</td>\n",
       "      <td>6.000000</td>\n",
       "    </tr>\n",
       "  </tbody>\n",
       "</table>\n",
       "</div>"
      ],
      "text/plain": [
       "       pickup_longitude  pickup_latitude  dropoff_longitude  dropoff_latitude  \\\n",
       "count       9914.000000      9914.000000        9914.000000       9914.000000   \n",
       "mean         -73.974722        40.751041         -73.973657         40.751743   \n",
       "std            0.042774         0.033541           0.039072          0.035435   \n",
       "min          -74.252193        40.573143         -74.263242         40.568973   \n",
       "25%          -73.992501        40.736125         -73.991247         40.735254   \n",
       "50%          -73.982326        40.753051         -73.980015         40.754065   \n",
       "75%          -73.968013        40.767113         -73.964059         40.768757   \n",
       "max          -72.986532        41.709555         -72.990963         41.696683   \n",
       "\n",
       "       passenger_count  \n",
       "count      9914.000000  \n",
       "mean          1.671273  \n",
       "std           1.278747  \n",
       "min           1.000000  \n",
       "25%           1.000000  \n",
       "50%           1.000000  \n",
       "75%           2.000000  \n",
       "max           6.000000  "
      ]
     },
     "execution_count": 4,
     "metadata": {},
     "output_type": "execute_result"
    }
   ],
   "source": [
    "test_df.describe()"
   ]
  },
  {
   "cell_type": "code",
   "execution_count": 5,
   "metadata": {},
   "outputs": [],
   "source": [
    "lng1min = test_df.pickup_longitude.min()\n",
    "lng2min = test_df.dropoff_longitude.min()\n",
    "lat1min = test_df.pickup_latitude.min()\n",
    "lat2min = test_df.dropoff_latitude.min()\n",
    "#\n",
    "lng1max = test_df.pickup_longitude.max()\n",
    "lng2max = test_df.dropoff_longitude.max()\n",
    "lat1max = test_df.pickup_latitude.max()\n",
    "lat2max = test_df.dropoff_latitude.max()"
   ]
  },
  {
   "cell_type": "markdown",
   "metadata": {},
   "source": [
    "# Train Sample 1"
   ]
  },
  {
   "cell_type": "code",
   "execution_count": 33,
   "metadata": {},
   "outputs": [
    {
     "name": "stdout",
     "output_type": "stream",
     "text": [
      "CPU times: user 78.8 ms, sys: 102 ms, total: 181 ms\n",
      "Wall time: 683 ms\n"
     ]
    }
   ],
   "source": [
    "%%time\n",
    "# Read a subsample (train1) of the original dataset with 55M rows\n",
    "# It was obtained ramdomly using the command line subsample task:\n",
    "# >subsample --reservoir -n 2000000 train.csv -r > train1.csv\n",
    "train_df = read_feather('tmp/train1.feather')\n",
    "train_df.head()"
   ]
  },
  {
   "cell_type": "code",
   "execution_count": 7,
   "metadata": {},
   "outputs": [
    {
     "name": "stdout",
     "output_type": "stream",
     "text": [
      "<class 'pandas.core.frame.DataFrame'>\n",
      "RangeIndex: 2000000 entries, 0 to 1999999\n",
      "Data columns (total 7 columns):\n",
      "fare_amount          float32\n",
      "pickup_datetime      datetime64[ns]\n",
      "pickup_longitude     float32\n",
      "pickup_latitude      float32\n",
      "dropoff_longitude    float32\n",
      "dropoff_latitude     float32\n",
      "passenger_count      uint8\n",
      "dtypes: datetime64[ns](1), float32(5), uint8(1)\n",
      "memory usage: 55.3 MB\n"
     ]
    }
   ],
   "source": [
    "train_df.info()"
   ]
  },
  {
   "cell_type": "code",
   "execution_count": 22,
   "metadata": {},
   "outputs": [],
   "source": [
    "def transform(train_df):\n",
    "    \n",
    "    # Remove missing values\n",
    "    train_df = train_df.dropna(how = 'any', axis = 'rows')\n",
    "\n",
    "    # Remove absurd passenger_count\n",
    "    train_df = train_df[(train_df['passenger_count'] >= 1) &\n",
    "                    (train_df['passenger_count'] <= 6)]\n",
    "\n",
    "    # Remove negative and extreme fare_amount values\n",
    "    train_df = train_df[(train_df['fare_amount'] >= 2.5) & (train_df['fare_amount'] <= 200)]\n",
    "    print('Maximum fare_amount: %.1f' % train_df['fare_amount'].max())\n",
    "\n",
    "    # Remove no displacements\n",
    "    train_df = train_df[(train_df['pickup_latitude'] != train_df['dropoff_latitude'])]\n",
    "    train_df = train_df[(train_df['pickup_longitude'] != train_df['dropoff_longitude'])]\n",
    "\n",
    "    # Remove absurd displacements\n",
    "    train_df = train_df[(train_df['pickup_longitude'] >= lng1min) & (train_df['pickup_longitude'] <= lng1max)]\n",
    "    train_df = train_df[(train_df['dropoff_longitude'] >= lng2min) & (train_df['dropoff_longitude'] <= lng2max)]\n",
    "    train_df = train_df[(train_df['pickup_latitude'] >= lat1min) & (train_df['pickup_latitude'] <= lat1max)]\n",
    "    train_df = train_df[(train_df['dropoff_latitude'] >= lat2min) & (train_df['dropoff_latitude'] <= lat2max)]\n",
    "\n",
    "    # Create new features - distance\n",
    "    train_df['dist'] = distance(train_df['pickup_latitude'], train_df['pickup_longitude'],\n",
    "                                train_df['dropoff_latitude'], train_df['dropoff_longitude'])\n",
    "    train_df = train_df[train_df['dist'] <= 100]\n",
    "\n",
    "    # Create new features - dayofweek,hour,month,year\n",
    "    train_df['dayofweek'] = train_df['pickup_datetime'].dt.dayofweek.astype('uint8')\n",
    "    train_df['hour'] = train_df['pickup_datetime'].dt.hour.astype('uint8')\n",
    "    train_df['month'] = train_df['pickup_datetime'].dt.month.astype('uint8')\n",
    "    train_df['year'] = train_df['pickup_datetime'].dt.year.astype('uint16')\n",
    "\n",
    "    # Create dataframes for the two periods\n",
    "    P1 = train_df[(train_df['pickup_datetime'] < '2012-09-01')]\n",
    "    P1 = P1.drop(['pickup_datetime'], axis=1)\n",
    "    print(P1.shape)\n",
    "    P2 = train_df.loc[(train_df['pickup_datetime'] >= '2012-09-01')]\n",
    "    P2 = P2.drop(['pickup_datetime'], axis=1)\n",
    "    print(P2.shape)\n",
    "\n",
    "    # Save memory\n",
    "    print(train_df.shape)\n",
    "    print('Maximum ride distance: %.1f' % train_df['dist'].max())\n",
    "    del train_df\n",
    "    return P1,P2"
   ]
  },
  {
   "cell_type": "code",
   "execution_count": 34,
   "metadata": {},
   "outputs": [
    {
     "name": "stdout",
     "output_type": "stream",
     "text": [
      "Maximum fare_amount: 200.0\n",
      "(1099583, 11)\n",
      "(827716, 11)\n",
      "(1927299, 12)\n",
      "Maximum ride distance: 99.9\n"
     ]
    }
   ],
   "source": [
    "P1, P2 = transform(train_df)"
   ]
  },
  {
   "cell_type": "code",
   "execution_count": 10,
   "metadata": {},
   "outputs": [
    {
     "data": {
      "text/html": [
       "<div>\n",
       "<style scoped>\n",
       "    .dataframe tbody tr th:only-of-type {\n",
       "        vertical-align: middle;\n",
       "    }\n",
       "\n",
       "    .dataframe tbody tr th {\n",
       "        vertical-align: top;\n",
       "    }\n",
       "\n",
       "    .dataframe thead th {\n",
       "        text-align: right;\n",
       "    }\n",
       "</style>\n",
       "<table border=\"1\" class=\"dataframe\">\n",
       "  <thead>\n",
       "    <tr style=\"text-align: right;\">\n",
       "      <th></th>\n",
       "      <th>fare_amount</th>\n",
       "      <th>pickup_longitude</th>\n",
       "      <th>pickup_latitude</th>\n",
       "      <th>dropoff_longitude</th>\n",
       "      <th>dropoff_latitude</th>\n",
       "      <th>passenger_count</th>\n",
       "      <th>dist</th>\n",
       "      <th>dayofweek</th>\n",
       "      <th>hour</th>\n",
       "      <th>month</th>\n",
       "      <th>year</th>\n",
       "    </tr>\n",
       "  </thead>\n",
       "  <tbody>\n",
       "    <tr>\n",
       "      <th>0</th>\n",
       "      <td>34.669998</td>\n",
       "      <td>-73.870819</td>\n",
       "      <td>40.773991</td>\n",
       "      <td>-73.999054</td>\n",
       "      <td>40.760658</td>\n",
       "      <td>1</td>\n",
       "      <td>10.900634</td>\n",
       "      <td>4</td>\n",
       "      <td>18</td>\n",
       "      <td>10</td>\n",
       "      <td>2009</td>\n",
       "    </tr>\n",
       "    <tr>\n",
       "      <th>2</th>\n",
       "      <td>3.300000</td>\n",
       "      <td>-73.980865</td>\n",
       "      <td>40.750500</td>\n",
       "      <td>-73.981079</td>\n",
       "      <td>40.755962</td>\n",
       "      <td>1</td>\n",
       "      <td>0.607685</td>\n",
       "      <td>5</td>\n",
       "      <td>1</td>\n",
       "      <td>2</td>\n",
       "      <td>2009</td>\n",
       "    </tr>\n",
       "    <tr>\n",
       "      <th>3</th>\n",
       "      <td>7.300000</td>\n",
       "      <td>-73.979965</td>\n",
       "      <td>40.743340</td>\n",
       "      <td>-73.988792</td>\n",
       "      <td>40.759567</td>\n",
       "      <td>1</td>\n",
       "      <td>1.951639</td>\n",
       "      <td>0</td>\n",
       "      <td>20</td>\n",
       "      <td>10</td>\n",
       "      <td>2011</td>\n",
       "    </tr>\n",
       "    <tr>\n",
       "      <th>8</th>\n",
       "      <td>4.100000</td>\n",
       "      <td>-74.002220</td>\n",
       "      <td>40.738979</td>\n",
       "      <td>-74.003189</td>\n",
       "      <td>40.732300</td>\n",
       "      <td>1</td>\n",
       "      <td>0.747204</td>\n",
       "      <td>4</td>\n",
       "      <td>11</td>\n",
       "      <td>8</td>\n",
       "      <td>2010</td>\n",
       "    </tr>\n",
       "    <tr>\n",
       "      <th>10</th>\n",
       "      <td>12.100000</td>\n",
       "      <td>-73.982155</td>\n",
       "      <td>40.772606</td>\n",
       "      <td>-73.968719</td>\n",
       "      <td>40.751492</td>\n",
       "      <td>1</td>\n",
       "      <td>2.606266</td>\n",
       "      <td>3</td>\n",
       "      <td>8</td>\n",
       "      <td>7</td>\n",
       "      <td>2012</td>\n",
       "    </tr>\n",
       "  </tbody>\n",
       "</table>\n",
       "</div>"
      ],
      "text/plain": [
       "    fare_amount  pickup_longitude  pickup_latitude  dropoff_longitude  \\\n",
       "0     34.669998        -73.870819        40.773991         -73.999054   \n",
       "2      3.300000        -73.980865        40.750500         -73.981079   \n",
       "3      7.300000        -73.979965        40.743340         -73.988792   \n",
       "8      4.100000        -74.002220        40.738979         -74.003189   \n",
       "10    12.100000        -73.982155        40.772606         -73.968719   \n",
       "\n",
       "    dropoff_latitude  passenger_count       dist  dayofweek  hour  month  year  \n",
       "0          40.760658                1  10.900634          4    18     10  2009  \n",
       "2          40.755962                1   0.607685          5     1      2  2009  \n",
       "3          40.759567                1   1.951639          0    20     10  2011  \n",
       "8          40.732300                1   0.747204          4    11      8  2010  \n",
       "10         40.751492                1   2.606266          3     8      7  2012  "
      ]
     },
     "execution_count": 10,
     "metadata": {},
     "output_type": "execute_result"
    }
   ],
   "source": [
    "P1.head()"
   ]
  },
  {
   "cell_type": "code",
   "execution_count": 11,
   "metadata": {},
   "outputs": [
    {
     "data": {
      "text/html": [
       "<div>\n",
       "<style scoped>\n",
       "    .dataframe tbody tr th:only-of-type {\n",
       "        vertical-align: middle;\n",
       "    }\n",
       "\n",
       "    .dataframe tbody tr th {\n",
       "        vertical-align: top;\n",
       "    }\n",
       "\n",
       "    .dataframe thead th {\n",
       "        text-align: right;\n",
       "    }\n",
       "</style>\n",
       "<table border=\"1\" class=\"dataframe\">\n",
       "  <thead>\n",
       "    <tr style=\"text-align: right;\">\n",
       "      <th></th>\n",
       "      <th>fare_amount</th>\n",
       "      <th>pickup_longitude</th>\n",
       "      <th>pickup_latitude</th>\n",
       "      <th>dropoff_longitude</th>\n",
       "      <th>dropoff_latitude</th>\n",
       "      <th>passenger_count</th>\n",
       "      <th>dist</th>\n",
       "      <th>dayofweek</th>\n",
       "      <th>hour</th>\n",
       "      <th>month</th>\n",
       "      <th>year</th>\n",
       "    </tr>\n",
       "  </thead>\n",
       "  <tbody>\n",
       "    <tr>\n",
       "      <th>count</th>\n",
       "      <td>1.099583e+06</td>\n",
       "      <td>1.099583e+06</td>\n",
       "      <td>1.099583e+06</td>\n",
       "      <td>1.099583e+06</td>\n",
       "      <td>1.099583e+06</td>\n",
       "      <td>1.099583e+06</td>\n",
       "      <td>1.099583e+06</td>\n",
       "      <td>1.099583e+06</td>\n",
       "      <td>1.099583e+06</td>\n",
       "      <td>1.099583e+06</td>\n",
       "      <td>1.099583e+06</td>\n",
       "    </tr>\n",
       "    <tr>\n",
       "      <th>mean</th>\n",
       "      <td>1.024572e+01</td>\n",
       "      <td>-7.397575e+01</td>\n",
       "      <td>4.075126e+01</td>\n",
       "      <td>-7.397484e+01</td>\n",
       "      <td>4.075154e+01</td>\n",
       "      <td>1.683421e+00</td>\n",
       "      <td>3.310216e+00</td>\n",
       "      <td>3.023800e+00</td>\n",
       "      <td>1.351862e+01</td>\n",
       "      <td>6.141853e+00</td>\n",
       "      <td>2.010380e+03</td>\n",
       "    </tr>\n",
       "    <tr>\n",
       "      <th>std</th>\n",
       "      <td>8.275364e+00</td>\n",
       "      <td>3.534235e-02</td>\n",
       "      <td>2.762408e-02</td>\n",
       "      <td>3.443825e-02</td>\n",
       "      <td>3.080789e-02</td>\n",
       "      <td>1.265207e+00</td>\n",
       "      <td>3.677031e+00</td>\n",
       "      <td>1.942430e+00</td>\n",
       "      <td>6.499488e+00</td>\n",
       "      <td>3.348920e+00</td>\n",
       "      <td>1.075736e+00</td>\n",
       "    </tr>\n",
       "    <tr>\n",
       "      <th>min</th>\n",
       "      <td>2.500000e+00</td>\n",
       "      <td>-7.425201e+01</td>\n",
       "      <td>4.057338e+01</td>\n",
       "      <td>-7.426089e+01</td>\n",
       "      <td>4.056955e+01</td>\n",
       "      <td>1.000000e+00</td>\n",
       "      <td>7.677801e-04</td>\n",
       "      <td>0.000000e+00</td>\n",
       "      <td>0.000000e+00</td>\n",
       "      <td>1.000000e+00</td>\n",
       "      <td>2.009000e+03</td>\n",
       "    </tr>\n",
       "    <tr>\n",
       "      <th>25%</th>\n",
       "      <td>5.700000e+00</td>\n",
       "      <td>-7.399228e+01</td>\n",
       "      <td>4.073673e+01</td>\n",
       "      <td>-7.399161e+01</td>\n",
       "      <td>4.073595e+01</td>\n",
       "      <td>1.000000e+00</td>\n",
       "      <td>1.273078e+00</td>\n",
       "      <td>1.000000e+00</td>\n",
       "      <td>9.000000e+00</td>\n",
       "      <td>3.000000e+00</td>\n",
       "      <td>2.009000e+03</td>\n",
       "    </tr>\n",
       "    <tr>\n",
       "      <th>50%</th>\n",
       "      <td>7.700000e+00</td>\n",
       "      <td>-7.398211e+01</td>\n",
       "      <td>4.075352e+01</td>\n",
       "      <td>-7.398071e+01</td>\n",
       "      <td>4.075399e+01</td>\n",
       "      <td>1.000000e+00</td>\n",
       "      <td>2.168129e+00</td>\n",
       "      <td>3.000000e+00</td>\n",
       "      <td>1.400000e+01</td>\n",
       "      <td>6.000000e+00</td>\n",
       "      <td>2.010000e+03</td>\n",
       "    </tr>\n",
       "    <tr>\n",
       "      <th>75%</th>\n",
       "      <td>1.130000e+01</td>\n",
       "      <td>-7.396867e+01</td>\n",
       "      <td>4.076762e+01</td>\n",
       "      <td>-7.396612e+01</td>\n",
       "      <td>4.076840e+01</td>\n",
       "      <td>2.000000e+00</td>\n",
       "      <td>3.908413e+00</td>\n",
       "      <td>5.000000e+00</td>\n",
       "      <td>1.900000e+01</td>\n",
       "      <td>9.000000e+00</td>\n",
       "      <td>2.011000e+03</td>\n",
       "    </tr>\n",
       "    <tr>\n",
       "      <th>max</th>\n",
       "      <td>1.918000e+02</td>\n",
       "      <td>-7.299200e+01</td>\n",
       "      <td>4.162006e+01</td>\n",
       "      <td>-7.302320e+01</td>\n",
       "      <td>4.158635e+01</td>\n",
       "      <td>6.000000e+00</td>\n",
       "      <td>9.993300e+01</td>\n",
       "      <td>6.000000e+00</td>\n",
       "      <td>2.300000e+01</td>\n",
       "      <td>1.200000e+01</td>\n",
       "      <td>2.012000e+03</td>\n",
       "    </tr>\n",
       "  </tbody>\n",
       "</table>\n",
       "</div>"
      ],
      "text/plain": [
       "        fare_amount  pickup_longitude  pickup_latitude  dropoff_longitude  \\\n",
       "count  1.099583e+06      1.099583e+06     1.099583e+06       1.099583e+06   \n",
       "mean   1.024572e+01     -7.397575e+01     4.075126e+01      -7.397484e+01   \n",
       "std    8.275364e+00      3.534235e-02     2.762408e-02       3.443825e-02   \n",
       "min    2.500000e+00     -7.425201e+01     4.057338e+01      -7.426089e+01   \n",
       "25%    5.700000e+00     -7.399228e+01     4.073673e+01      -7.399161e+01   \n",
       "50%    7.700000e+00     -7.398211e+01     4.075352e+01      -7.398071e+01   \n",
       "75%    1.130000e+01     -7.396867e+01     4.076762e+01      -7.396612e+01   \n",
       "max    1.918000e+02     -7.299200e+01     4.162006e+01      -7.302320e+01   \n",
       "\n",
       "       dropoff_latitude  passenger_count          dist     dayofweek  \\\n",
       "count      1.099583e+06     1.099583e+06  1.099583e+06  1.099583e+06   \n",
       "mean       4.075154e+01     1.683421e+00  3.310216e+00  3.023800e+00   \n",
       "std        3.080789e-02     1.265207e+00  3.677031e+00  1.942430e+00   \n",
       "min        4.056955e+01     1.000000e+00  7.677801e-04  0.000000e+00   \n",
       "25%        4.073595e+01     1.000000e+00  1.273078e+00  1.000000e+00   \n",
       "50%        4.075399e+01     1.000000e+00  2.168129e+00  3.000000e+00   \n",
       "75%        4.076840e+01     2.000000e+00  3.908413e+00  5.000000e+00   \n",
       "max        4.158635e+01     6.000000e+00  9.993300e+01  6.000000e+00   \n",
       "\n",
       "               hour         month          year  \n",
       "count  1.099583e+06  1.099583e+06  1.099583e+06  \n",
       "mean   1.351862e+01  6.141853e+00  2.010380e+03  \n",
       "std    6.499488e+00  3.348920e+00  1.075736e+00  \n",
       "min    0.000000e+00  1.000000e+00  2.009000e+03  \n",
       "25%    9.000000e+00  3.000000e+00  2.009000e+03  \n",
       "50%    1.400000e+01  6.000000e+00  2.010000e+03  \n",
       "75%    1.900000e+01  9.000000e+00  2.011000e+03  \n",
       "max    2.300000e+01  1.200000e+01  2.012000e+03  "
      ]
     },
     "execution_count": 11,
     "metadata": {},
     "output_type": "execute_result"
    }
   ],
   "source": [
    "P1.describe()"
   ]
  },
  {
   "cell_type": "code",
   "execution_count": 12,
   "metadata": {},
   "outputs": [
    {
     "data": {
      "text/html": [
       "<div>\n",
       "<style scoped>\n",
       "    .dataframe tbody tr th:only-of-type {\n",
       "        vertical-align: middle;\n",
       "    }\n",
       "\n",
       "    .dataframe tbody tr th {\n",
       "        vertical-align: top;\n",
       "    }\n",
       "\n",
       "    .dataframe thead th {\n",
       "        text-align: right;\n",
       "    }\n",
       "</style>\n",
       "<table border=\"1\" class=\"dataframe\">\n",
       "  <thead>\n",
       "    <tr style=\"text-align: right;\">\n",
       "      <th></th>\n",
       "      <th>fare_amount</th>\n",
       "      <th>pickup_longitude</th>\n",
       "      <th>pickup_latitude</th>\n",
       "      <th>dropoff_longitude</th>\n",
       "      <th>dropoff_latitude</th>\n",
       "      <th>passenger_count</th>\n",
       "      <th>dist</th>\n",
       "      <th>dayofweek</th>\n",
       "      <th>hour</th>\n",
       "      <th>month</th>\n",
       "      <th>year</th>\n",
       "    </tr>\n",
       "  </thead>\n",
       "  <tbody>\n",
       "    <tr>\n",
       "      <th>count</th>\n",
       "      <td>827716.000000</td>\n",
       "      <td>827716.000000</td>\n",
       "      <td>827716.000000</td>\n",
       "      <td>827716.000000</td>\n",
       "      <td>827716.000000</td>\n",
       "      <td>827716.000000</td>\n",
       "      <td>827716.000000</td>\n",
       "      <td>827716.000000</td>\n",
       "      <td>827716.000000</td>\n",
       "      <td>827716.000000</td>\n",
       "      <td>827716.000000</td>\n",
       "    </tr>\n",
       "    <tr>\n",
       "      <th>mean</th>\n",
       "      <td>12.710736</td>\n",
       "      <td>-73.975067</td>\n",
       "      <td>40.750645</td>\n",
       "      <td>-73.974289</td>\n",
       "      <td>40.751186</td>\n",
       "      <td>1.703338</td>\n",
       "      <td>3.425260</td>\n",
       "      <td>3.061223</td>\n",
       "      <td>13.514988</td>\n",
       "      <td>6.441434</td>\n",
       "      <td>2013.554437</td>\n",
       "    </tr>\n",
       "    <tr>\n",
       "      <th>std</th>\n",
       "      <td>10.687953</td>\n",
       "      <td>0.035355</td>\n",
       "      <td>0.027186</td>\n",
       "      <td>0.034462</td>\n",
       "      <td>0.031143</td>\n",
       "      <td>1.362176</td>\n",
       "      <td>3.717142</td>\n",
       "      <td>1.961957</td>\n",
       "      <td>6.528371</td>\n",
       "      <td>3.544804</td>\n",
       "      <td>0.903094</td>\n",
       "    </tr>\n",
       "    <tr>\n",
       "      <th>min</th>\n",
       "      <td>2.500000</td>\n",
       "      <td>-74.240608</td>\n",
       "      <td>40.573578</td>\n",
       "      <td>-74.262383</td>\n",
       "      <td>40.569691</td>\n",
       "      <td>1.000000</td>\n",
       "      <td>0.000769</td>\n",
       "      <td>0.000000</td>\n",
       "      <td>0.000000</td>\n",
       "      <td>1.000000</td>\n",
       "      <td>2012.000000</td>\n",
       "    </tr>\n",
       "    <tr>\n",
       "      <th>25%</th>\n",
       "      <td>6.500000</td>\n",
       "      <td>-73.992294</td>\n",
       "      <td>40.736401</td>\n",
       "      <td>-73.991570</td>\n",
       "      <td>40.735371</td>\n",
       "      <td>1.000000</td>\n",
       "      <td>1.288051</td>\n",
       "      <td>1.000000</td>\n",
       "      <td>9.000000</td>\n",
       "      <td>3.000000</td>\n",
       "      <td>2013.000000</td>\n",
       "    </tr>\n",
       "    <tr>\n",
       "      <th>50%</th>\n",
       "      <td>9.500000</td>\n",
       "      <td>-73.982101</td>\n",
       "      <td>40.753300</td>\n",
       "      <td>-73.980469</td>\n",
       "      <td>40.753792</td>\n",
       "      <td>1.000000</td>\n",
       "      <td>2.192942</td>\n",
       "      <td>3.000000</td>\n",
       "      <td>14.000000</td>\n",
       "      <td>6.000000</td>\n",
       "      <td>2014.000000</td>\n",
       "    </tr>\n",
       "    <tr>\n",
       "      <th>75%</th>\n",
       "      <td>14.500000</td>\n",
       "      <td>-73.968132</td>\n",
       "      <td>40.767570</td>\n",
       "      <td>-73.964691</td>\n",
       "      <td>40.768459</td>\n",
       "      <td>2.000000</td>\n",
       "      <td>3.993166</td>\n",
       "      <td>5.000000</td>\n",
       "      <td>19.000000</td>\n",
       "      <td>10.000000</td>\n",
       "      <td>2014.000000</td>\n",
       "    </tr>\n",
       "    <tr>\n",
       "      <th>max</th>\n",
       "      <td>200.000000</td>\n",
       "      <td>-73.064941</td>\n",
       "      <td>41.383331</td>\n",
       "      <td>-72.993538</td>\n",
       "      <td>41.383331</td>\n",
       "      <td>6.000000</td>\n",
       "      <td>88.192757</td>\n",
       "      <td>6.000000</td>\n",
       "      <td>23.000000</td>\n",
       "      <td>12.000000</td>\n",
       "      <td>2015.000000</td>\n",
       "    </tr>\n",
       "  </tbody>\n",
       "</table>\n",
       "</div>"
      ],
      "text/plain": [
       "         fare_amount  pickup_longitude  pickup_latitude  dropoff_longitude  \\\n",
       "count  827716.000000     827716.000000    827716.000000      827716.000000   \n",
       "mean       12.710736        -73.975067        40.750645         -73.974289   \n",
       "std        10.687953          0.035355         0.027186           0.034462   \n",
       "min         2.500000        -74.240608        40.573578         -74.262383   \n",
       "25%         6.500000        -73.992294        40.736401         -73.991570   \n",
       "50%         9.500000        -73.982101        40.753300         -73.980469   \n",
       "75%        14.500000        -73.968132        40.767570         -73.964691   \n",
       "max       200.000000        -73.064941        41.383331         -72.993538   \n",
       "\n",
       "       dropoff_latitude  passenger_count           dist      dayofweek  \\\n",
       "count     827716.000000    827716.000000  827716.000000  827716.000000   \n",
       "mean          40.751186         1.703338       3.425260       3.061223   \n",
       "std            0.031143         1.362176       3.717142       1.961957   \n",
       "min           40.569691         1.000000       0.000769       0.000000   \n",
       "25%           40.735371         1.000000       1.288051       1.000000   \n",
       "50%           40.753792         1.000000       2.192942       3.000000   \n",
       "75%           40.768459         2.000000       3.993166       5.000000   \n",
       "max           41.383331         6.000000      88.192757       6.000000   \n",
       "\n",
       "                hour          month           year  \n",
       "count  827716.000000  827716.000000  827716.000000  \n",
       "mean       13.514988       6.441434    2013.554437  \n",
       "std         6.528371       3.544804       0.903094  \n",
       "min         0.000000       1.000000    2012.000000  \n",
       "25%         9.000000       3.000000    2013.000000  \n",
       "50%        14.000000       6.000000    2014.000000  \n",
       "75%        19.000000      10.000000    2014.000000  \n",
       "max        23.000000      12.000000    2015.000000  "
      ]
     },
     "execution_count": 12,
     "metadata": {},
     "output_type": "execute_result"
    }
   ],
   "source": [
    "P2.describe()"
   ]
  },
  {
   "cell_type": "markdown",
   "metadata": {},
   "source": [
    "# Model P1"
   ]
  },
  {
   "cell_type": "code",
   "execution_count": 40,
   "metadata": {},
   "outputs": [],
   "source": [
    "from sklearn.model_selection import train_test_split\n",
    "\n",
    "X = P1.iloc[:,1:].values\n",
    "y = np.log10(P1.iloc[:,0].values)\n",
    "\n",
    "seed = 101\n",
    "\n",
    "X_train, X_test, y_train, y_test = train_test_split(X, y,\n",
    "                                                   test_size=0.3, random_state=seed)"
   ]
  },
  {
   "cell_type": "code",
   "execution_count": 49,
   "metadata": {},
   "outputs": [
    {
     "name": "stdout",
     "output_type": "stream",
     "text": [
      "RMSE CV: 0.107 +/- 0.008\n",
      "RMSE before gridsearch: 0.106\n",
      "CPU times: user 4min 23s, sys: 3.98 s, total: 4min 27s\n",
      "Wall time: 37.1 s\n"
     ]
    }
   ],
   "source": [
    "%%time\n",
    "from sklearn.ensemble import ExtraTreesRegressor\n",
    "#from sklearn.ensemble import RandomForestRegressor\n",
    "from sklearn.metrics import make_scorer, mean_squared_error\n",
    "from sklearn.model_selection import cross_val_score\n",
    "\n",
    "modelP1 = ExtraTreesRegressor(random_state=seed, n_estimators=15,\n",
    "                              max_depth = 15, n_jobs = -1, warm_start=True)\n",
    "\n",
    "modelP1.fit(X_train,y_train)\n",
    "\n",
    "scores = cross_val_score(modelP1, X_train, y_train, cv=3, scoring=make_scorer(mean_squared_error))\n",
    "print('RMSE CV: %.3f +/- %.3f' % (np.sqrt(np.mean(scores)), np.sqrt(np.std(scores))))\n",
    "\n",
    "y_pred=modelP1.predict(X_test)\n",
    "print('RMSE before gridsearch: %.3f' % np.sqrt(mean_squared_error(y_pred,y_test)).round(3))"
   ]
  },
  {
   "cell_type": "markdown",
   "metadata": {},
   "source": [
    "## GridSearch"
   ]
  },
  {
   "cell_type": "code",
   "execution_count": 45,
   "metadata": {},
   "outputs": [
    {
     "name": "stdout",
     "output_type": "stream",
     "text": [
      "Fitting 3 folds for each of 18 candidates, totalling 54 fits\n"
     ]
    },
    {
     "name": "stderr",
     "output_type": "stream",
     "text": [
      "[Parallel(n_jobs=-1)]: Done  34 tasks      | elapsed:  4.0min\n",
      "[Parallel(n_jobs=-1)]: Done  54 out of  54 | elapsed:  5.6min finished\n"
     ]
    },
    {
     "name": "stdout",
     "output_type": "stream",
     "text": [
      "CPU times: user 1min 5s, sys: 615 ms, total: 1min 5s\n",
      "Wall time: 5min 43s\n"
     ]
    }
   ],
   "source": [
    "%%time\n",
    "from sklearn.model_selection import GridSearchCV, RandomizedSearchCV\n",
    "\n",
    "param_dist = {\"max_features\": [9,10],\n",
    "              \"min_samples_split\": [5,6,7],\n",
    "              \"min_samples_leaf\": [1,2,3]}\n",
    "\n",
    "modelP1 = ExtraTreesRegressor(random_state=seed, n_estimators=10,\n",
    "                              max_depth = 15, n_jobs=-1)\n",
    "\n",
    "rsearch = RandomizedSearchCV(modelP1, param_distributions=param_dist,\n",
    "                             n_jobs=-1, n_iter=18, verbose=1)\n",
    "rsearch.fit(X_train,y_train)"
   ]
  },
  {
   "cell_type": "code",
   "execution_count": 46,
   "metadata": {},
   "outputs": [
    {
     "name": "stdout",
     "output_type": "stream",
     "text": [
      "ExtraTreesRegressor(bootstrap=False, criterion='mse', max_depth=15,\n",
      "          max_features=10, max_leaf_nodes=None, min_impurity_decrease=0.0,\n",
      "          min_impurity_split=None, min_samples_leaf=2, min_samples_split=6,\n",
      "          min_weight_fraction_leaf=0.0, n_estimators=10, n_jobs=-1,\n",
      "          oob_score=False, random_state=101, verbose=0, warm_start=False)\n"
     ]
    }
   ],
   "source": [
    "modelP1=rsearch.best_estimator_\n",
    "print(modelP1)"
   ]
  },
  {
   "cell_type": "code",
   "execution_count": 50,
   "metadata": {},
   "outputs": [
    {
     "name": "stdout",
     "output_type": "stream",
     "text": [
      "RMSE CV: 0.107 +/- 0.005\n",
      "RMSE after gridsearch: 0.106\n"
     ]
    }
   ],
   "source": [
    "from sklearn.ensemble import ExtraTreesRegressor\n",
    "from sklearn.metrics import make_scorer, mean_squared_error\n",
    "from sklearn.model_selection import cross_val_score\n",
    "\n",
    "modelP1 = ExtraTreesRegressor(bootstrap=False, criterion='mse', max_depth=15,\n",
    "          max_features=10, max_leaf_nodes=None, min_impurity_decrease=0.0,\n",
    "          min_impurity_split=None, min_samples_leaf=2, min_samples_split=6,\n",
    "          min_weight_fraction_leaf=0.0, n_estimators=15, n_jobs=-1,\n",
    "          oob_score=False, random_state=101, verbose=0, warm_start=False)\n",
    "\n",
    "modelP1.fit(X_train,y_train)\n",
    "scores = cross_val_score(modelP1, X_train, y_train, cv=3, scoring=make_scorer(mean_squared_error))\n",
    "print('RMSE CV: %.3f +/- %.3f' % (np.sqrt(np.mean(scores)), np.sqrt(np.std(scores))))\n",
    "# Best model applyied on the test set\n",
    "y_pred=modelP1.predict(X_test)\n",
    "print('RMSE after gridsearch: %.3f' % np.sqrt(mean_squared_error(y_pred,y_test)).round(3))"
   ]
  },
  {
   "cell_type": "markdown",
   "metadata": {},
   "source": [
    "# Model P2"
   ]
  },
  {
   "cell_type": "code",
   "execution_count": 15,
   "metadata": {},
   "outputs": [],
   "source": [
    "from sklearn.model_selection import train_test_split\n",
    "\n",
    "X = P2.iloc[:,1:].values\n",
    "y = np.log10(P2.iloc[:,0].values)\n",
    "\n",
    "seed = 101\n",
    "\n",
    "X_train, X_test, y_train, y_test = train_test_split(X, y,\n",
    "                                                   test_size=0.3, random_state=seed)"
   ]
  },
  {
   "cell_type": "code",
   "execution_count": 16,
   "metadata": {},
   "outputs": [
    {
     "name": "stdout",
     "output_type": "stream",
     "text": [
      "RMSE CV: 0.103 +/- 0.011\n",
      "RMSE: 0.103\n"
     ]
    }
   ],
   "source": [
    "from sklearn.ensemble import ExtraTreesRegressor\n",
    "from sklearn.metrics import make_scorer, mean_squared_error\n",
    "from sklearn.model_selection import cross_val_score\n",
    "\n",
    "modelP2 = ExtraTreesRegressor(random_state=seed, n_estimators=15,\n",
    "                              max_depth = 20, n_jobs = -1, warm_start=False)\n",
    "modelP2.fit(X_train,y_train)\n",
    "\n",
    "scores = cross_val_score(modelP2, X_train, y_train, cv=3, scoring=make_scorer(mean_squared_error))\n",
    "print('RMSE CV: %.3f +/- %.3f' % (np.sqrt(np.mean(scores)), np.sqrt(np.std(scores))))\n",
    "\n",
    "y_pred=modelP2.predict(X_test)\n",
    "print('RMSE: %.3f' % np.sqrt(mean_squared_error(y_pred,y_test)).round(3))"
   ]
  },
  {
   "cell_type": "markdown",
   "metadata": {},
   "source": [
    "## GridSearch"
   ]
  },
  {
   "cell_type": "code",
   "execution_count": null,
   "metadata": {},
   "outputs": [],
   "source": [
    "%%time\n",
    "from sklearn.model_selection import GridSearchCV, RandomizedSearchCV\n",
    "\n",
    "param_dist = {\"max_features\": [9,10],\n",
    "              \"min_samples_split\": [5,6,7],\n",
    "              \"min_samples_leaf\": [1,2,3]}\n",
    "\n",
    "rsearch = RandomizedSearchCV(modelP2, param_distributions=param_dist, n_jobs=-1, n_iter=18)\n",
    "rsearch.fit(X_train,y_train)"
   ]
  },
  {
   "cell_type": "code",
   "execution_count": null,
   "metadata": {},
   "outputs": [],
   "source": [
    "modelP2=rsearch.best_estimator_\n",
    "print(modelP2)"
   ]
  },
  {
   "cell_type": "code",
   "execution_count": null,
   "metadata": {},
   "outputs": [],
   "source": [
    "modelP2 = ExtraTreesRegressor(bootstrap=False, criterion='mse', max_depth=25,\n",
    "          max_features=10, max_leaf_nodes=None, min_impurity_decrease=0.0,\n",
    "          min_impurity_split=None, min_samples_leaf=1, min_samples_split=6,\n",
    "          min_weight_fraction_leaf=0.0, n_estimators=25, n_jobs=-1,\n",
    "          oob_score=False, random_state=101, verbose=0, warm_start=False)\n",
    "\n",
    "modelP2.fit(X_train,y_train)\n",
    "#scores = cross_val_score(modelP2, X_train, y_train, cv=3, scoring=make_scorer(mean_squared_error))\n",
    "#print('RMSE CV: %.3f +/- %.3f' % (np.sqrt(np.mean(scores)), np.sqrt(np.std(scores))))\n",
    "# Best model applyied on the test set\n",
    "y_pred=modelP2.predict(X_test)\n",
    "print(np.sqrt(mean_squared_error(y_pred,y_test)).round(3))"
   ]
  },
  {
   "cell_type": "markdown",
   "metadata": {},
   "source": [
    "# Train Sample 2"
   ]
  },
  {
   "cell_type": "code",
   "execution_count": 27,
   "metadata": {},
   "outputs": [
    {
     "name": "stdout",
     "output_type": "stream",
     "text": [
      "Maximum fare_amount: 200.0\n",
      "(1099464, 11)\n",
      "(828094, 11)\n",
      "(1927558, 12)\n",
      "Maximum ride distance: 100.0\n"
     ]
    }
   ],
   "source": [
    "# Read and transform\n",
    "train_df = read_feather('tmp/train2.feather')\n",
    "P1, P2 = transform(train_df)"
   ]
  },
  {
   "cell_type": "markdown",
   "metadata": {},
   "source": [
    "## P1"
   ]
  },
  {
   "cell_type": "code",
   "execution_count": 28,
   "metadata": {},
   "outputs": [
    {
     "data": {
      "text/plain": [
       "0.103"
      ]
     },
     "execution_count": 28,
     "metadata": {},
     "output_type": "execute_result"
    }
   ],
   "source": [
    "X = P1.iloc[:,1:].values\n",
    "y = np.log10(P1.iloc[:,0].values)\n",
    "\n",
    "modelP1.set_params(n_estimators=10, random_state=101, n_jobs = -1, warm_start=True)\n",
    "modelP1.fit(X, y)\n",
    "y_pred=modelP1.predict(X_test)\n",
    "print(np.sqrt(mean_squared_error(y_pred,y_test)).round(3))"
   ]
  },
  {
   "cell_type": "markdown",
   "metadata": {},
   "source": [
    "## P2"
   ]
  },
  {
   "cell_type": "code",
   "execution_count": null,
   "metadata": {},
   "outputs": [],
   "source": [
    "X = P2.iloc[:,1:].values\n",
    "y = P2.iloc[:,0].values\n",
    "\n",
    "modelP2.set_params(n_estimators=30, random_state=101, n_jobs = -1, warm_start=True)\n",
    "modelP2.fit(X, y)\n",
    "y_pred=modelP2.predict(X_test)\n",
    "np.sqrt(mean_squared_error(y_pred,y_test)).round(3)"
   ]
  },
  {
   "cell_type": "markdown",
   "metadata": {},
   "source": [
    "# Train Sample 3"
   ]
  },
  {
   "cell_type": "code",
   "execution_count": 29,
   "metadata": {},
   "outputs": [
    {
     "name": "stdout",
     "output_type": "stream",
     "text": [
      "Maximum fare_amount: 200.0\n",
      "(1099481, 11)\n",
      "(827689, 11)\n",
      "(1927170, 12)\n",
      "Maximum ride distance: 100.0\n"
     ]
    }
   ],
   "source": [
    "# Read and transform\n",
    "train_df = read_feather('tmp/train3.feather')\n",
    "P1, P2 = transform(train_df)"
   ]
  },
  {
   "cell_type": "markdown",
   "metadata": {},
   "source": [
    "## P1"
   ]
  },
  {
   "cell_type": "code",
   "execution_count": 30,
   "metadata": {},
   "outputs": [
    {
     "name": "stdout",
     "output_type": "stream",
     "text": [
      "0.103\n"
     ]
    }
   ],
   "source": [
    "X = P1.iloc[:,1:].values\n",
    "y = np.log10(P1.iloc[:,0].values)\n",
    "\n",
    "modelP1.set_params(n_estimators=15, random_state=101, n_jobs = -1, warm_start=True)\n",
    "modelP1.fit(X, y)\n",
    "y_pred=modelP1.predict(X_test)\n",
    "print(np.sqrt(mean_squared_error(y_pred,y_test)).round(3))"
   ]
  },
  {
   "cell_type": "markdown",
   "metadata": {},
   "source": [
    "## P2"
   ]
  },
  {
   "cell_type": "code",
   "execution_count": null,
   "metadata": {},
   "outputs": [],
   "source": [
    "X = P2.iloc[:,1:].values\n",
    "y = P2.iloc[:,0].values\n",
    "\n",
    "modelP2.set_params(n_estimators=35, random_state=101, n_jobs = -1, warm_start=True)\n",
    "modelP2.fit(X, y)\n",
    "y_pred=modelP2.predict(X_test)\n",
    "np.sqrt(mean_squared_error(y_pred,y_test)).round(3)"
   ]
  },
  {
   "cell_type": "markdown",
   "metadata": {},
   "source": [
    "# Train Sample 4"
   ]
  },
  {
   "cell_type": "code",
   "execution_count": 31,
   "metadata": {},
   "outputs": [
    {
     "name": "stdout",
     "output_type": "stream",
     "text": [
      "Maximum fare_amount: 200.0\n",
      "(1097163, 11)\n",
      "(830322, 11)\n",
      "(1927485, 12)\n",
      "Maximum ride distance: 100.0\n"
     ]
    }
   ],
   "source": [
    "# Read and transform\n",
    "train_df = read_feather('tmp/train4.feather')\n",
    "P1, P2 = transform(train_df)"
   ]
  },
  {
   "cell_type": "markdown",
   "metadata": {},
   "source": [
    "## P1"
   ]
  },
  {
   "cell_type": "code",
   "execution_count": 32,
   "metadata": {},
   "outputs": [
    {
     "name": "stdout",
     "output_type": "stream",
     "text": [
      "0.782\n"
     ]
    }
   ],
   "source": [
    "X = P1.iloc[:,1:].values\n",
    "y = np.log10(P1.iloc[:,0].values)\n",
    "\n",
    "modelP1.set_params(n_estimators=20, random_state=101, n_jobs = -1, warm_start=True)\n",
    "modelP1.fit(X, y)\n",
    "y_pred=modelP1.predict(X_test)\n",
    "print(np.sqrt(mean_squared_error(y_pred,y_test)).round(3))"
   ]
  },
  {
   "cell_type": "markdown",
   "metadata": {},
   "source": [
    "## P2"
   ]
  },
  {
   "cell_type": "code",
   "execution_count": null,
   "metadata": {},
   "outputs": [],
   "source": [
    "X = P2.iloc[:,1:].values\n",
    "y = P2.iloc[:,0].values\n",
    "\n",
    "modelP2.set_params(n_estimators=40, random_state=101, n_jobs = -1, warm_start=True)\n",
    "modelP2.fit(X, y)\n",
    "y_pred=modelP2.predict(X_test)\n",
    "np.sqrt(mean_squared_error(y_pred,y_test)).round(3)"
   ]
  },
  {
   "cell_type": "markdown",
   "metadata": {},
   "source": [
    "# Train Sample 5"
   ]
  },
  {
   "cell_type": "code",
   "execution_count": null,
   "metadata": {},
   "outputs": [],
   "source": [
    "# Read and transform\n",
    "train_df = read_feather('tmp/train5.feather')\n",
    "P1, P2 = transform(train_df)"
   ]
  },
  {
   "cell_type": "markdown",
   "metadata": {},
   "source": [
    "## P1"
   ]
  },
  {
   "cell_type": "code",
   "execution_count": null,
   "metadata": {},
   "outputs": [],
   "source": [
    "X = P1.iloc[:,1:].values\n",
    "y = P1.iloc[:,0].values\n",
    "\n",
    "modelP1.set_params(n_estimators=45, random_state=101, n_jobs = -1, warm_start=True)\n",
    "modelP1.fit(X, y)\n",
    "y_pred=modelP1.predict(X_test)\n",
    "np.sqrt(mean_squared_error(y_pred,y_test)).round(3)"
   ]
  },
  {
   "cell_type": "markdown",
   "metadata": {},
   "source": [
    "## P2"
   ]
  },
  {
   "cell_type": "code",
   "execution_count": null,
   "metadata": {},
   "outputs": [],
   "source": [
    "X = P2.iloc[:,1:].values\n",
    "y = P2.iloc[:,0].values\n",
    "\n",
    "modelP2.set_params(n_estimators=45, random_state=101, n_jobs = -1, warm_start=True)\n",
    "modelP2.fit(X, y)\n",
    "y_pred=modelP2.predict(X_test)\n",
    "np.sqrt(mean_squared_error(y_pred,y_test)).round(3)"
   ]
  },
  {
   "cell_type": "markdown",
   "metadata": {},
   "source": [
    "## Make predictions on the test set"
   ]
  },
  {
   "cell_type": "code",
   "execution_count": null,
   "metadata": {},
   "outputs": [],
   "source": [
    "# No missing values\n",
    "test_df = read_csv('test.csv', parse_dates=[\"pickup_datetime\"],\n",
    "                  infer_datetime_format=True)\n",
    "\n",
    "test_df['dist'] = distance(test_df['pickup_latitude'], test_df['pickup_longitude'],\n",
    "                           test_df['dropoff_latitude'], test_df['dropoff_longitude'])\n",
    "\n",
    "print('Maximum ride distance: %.1f' % test_df['dist'].max())\n",
    "\n",
    "test_df['dayofweek'] = test_df['pickup_datetime'].dt.dayofweek #.astype('uint8')\n",
    "test_df['hour'] = test_df['pickup_datetime'].dt.hour #.astype('uint8')\n",
    "test_df['month'] = test_df['pickup_datetime'].dt.month #.astype('uint8')\n",
    "test_df['year'] = test_df['pickup_datetime'].dt.year #.astype('uint8')\n",
    "#test_df = test_df.drop(['passenger_count'], axis=1)\n",
    "test_df.head()"
   ]
  },
  {
   "cell_type": "code",
   "execution_count": null,
   "metadata": {},
   "outputs": [],
   "source": [
    "X_testF = test_df.iloc[:,2:].values\n",
    "y_predFP1 = modelP1.predict(X_testF).round(3)"
   ]
  },
  {
   "cell_type": "code",
   "execution_count": null,
   "metadata": {},
   "outputs": [],
   "source": [
    "#X_testF = test_df.iloc[:,[2,3,4,5,6,7,8,9,10,11]].values\n",
    "#y_predFP1 = modelP1.predict(X_testF).round(3)\n",
    "y_predFP2 = modelP2.predict(X_testF).round(3)"
   ]
  },
  {
   "cell_type": "code",
   "execution_count": null,
   "metadata": {},
   "outputs": [],
   "source": [
    "import matplotlib.pyplot as plt\n",
    "%matplotlib inline\n",
    "plt.scatter(y_predFP1, y_predFP2)\n",
    "plt.xlabel('y_pred P1')\n",
    "plt.ylabel('y_pred P2')\n",
    "plt.xlim(0,150)\n",
    "plt.ylim(0,150)\n",
    "plt.show()"
   ]
  },
  {
   "cell_type": "code",
   "execution_count": null,
   "metadata": {},
   "outputs": [],
   "source": [
    "#y_predFP2 = np.where(y_predFP2 > 150, 100, y_predFP2)\n",
    "#y_predFP2 = np.where((y_predFP2 > 90) & (y_predFP1 < 40), 35, y_predFP2)\n",
    "#y_predFP2 = np.where((y_predFP2 > 40) & (y_predFP1 < 24), 11, y_predFP2)"
   ]
  },
  {
   "cell_type": "code",
   "execution_count": null,
   "metadata": {},
   "outputs": [],
   "source": [
    "#import matplotlib.pyplot as plt\n",
    "#%matplotlib inline\n",
    "#plt.scatter(y_predFP1, y_predFP2)\n",
    "#plt.xlabel('y_pred P1')\n",
    "#plt.ylabel('y_pred P2')\n",
    "#plt.xlim(0,250)\n",
    "#plt.ylim(0,250)\n",
    "#plt.show()"
   ]
  },
  {
   "cell_type": "code",
   "execution_count": null,
   "metadata": {},
   "outputs": [],
   "source": [
    "submission = DataFrame({'key': test_df.key, 'fare_amountP1': y_predFP1,\n",
    "                        'fare_amountP2': y_predFP2},\n",
    "                       columns = ['key', 'fare_amountP1', 'fare_amountP2'])\n",
    "\n",
    "submission['fare_amount'] = np.where(test_df['pickup_datetime'] < '2012-09-01',\n",
    "                                     submission['fare_amountP1'],\n",
    "                                     submission['fare_amountP2'])\n",
    "\n",
    "submission = submission.drop(['fare_amountP1','fare_amountP2'], axis=1)\n",
    "submission.to_csv('submission.csv', index = False)\n",
    "submission.head()"
   ]
  },
  {
   "cell_type": "code",
   "execution_count": null,
   "metadata": {},
   "outputs": [],
   "source": [
    "testP1 = test_df[(test_df['pickup_datetime'] < '2012-09-01')]\n",
    "print(testP1.shape)\n",
    "testP2 = test_df[(test_df['pickup_datetime'] >= '2012-09-01')]\n",
    "print(testP2.shape)"
   ]
  },
  {
   "cell_type": "code",
   "execution_count": null,
   "metadata": {},
   "outputs": [],
   "source": []
  }
 ],
 "metadata": {
  "kernelspec": {
   "display_name": "Python 3",
   "language": "python",
   "name": "python3"
  },
  "language_info": {
   "codemirror_mode": {
    "name": "ipython",
    "version": 3
   },
   "file_extension": ".py",
   "mimetype": "text/x-python",
   "name": "python",
   "nbconvert_exporter": "python",
   "pygments_lexer": "ipython3",
   "version": "3.6.6"
  }
 },
 "nbformat": 4,
 "nbformat_minor": 2
}
