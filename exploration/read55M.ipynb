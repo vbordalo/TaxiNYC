{
 "cells": [
  {
   "cell_type": "code",
   "execution_count": 2,
   "metadata": {},
   "outputs": [],
   "source": [
    "df = open('train1.csv').read()[0:100]"
   ]
  },
  {
   "cell_type": "code",
   "execution_count": 5,
   "metadata": {},
   "outputs": [
    {
     "data": {
      "text/plain": [
       "str"
      ]
     },
     "execution_count": 5,
     "metadata": {},
     "output_type": "execute_result"
    }
   ],
   "source": [
    "type(df)"
   ]
  },
  {
   "cell_type": "code",
   "execution_count": 10,
   "metadata": {},
   "outputs": [],
   "source": [
    "with open('train1.csv') as fin:\n",
    "    fin.seek(0)\n",
    "    data = fin.read(1000)"
   ]
  },
  {
   "cell_type": "code",
   "execution_count": 11,
   "metadata": {},
   "outputs": [
    {
     "data": {
      "text/plain": [
       "str"
      ]
     },
     "execution_count": 11,
     "metadata": {},
     "output_type": "execute_result"
    }
   ],
   "source": [
    "type(data)"
   ]
  },
  {
   "cell_type": "code",
   "execution_count": 12,
   "metadata": {},
   "outputs": [
    {
     "data": {
      "text/plain": [
       "'key,fare_amount,pickup_datetime,pickup_longitude,pickup_latitude,dropoff_longitude,dropoff_latitude,passenger_count\\n2009-10-09 18:05:00.00000069,34.67,2009-10-09 18:05:00 UTC,-73.870817,40.773992,-73.999052,40.76066,1\\n2014-03-25 18:08:00.00000060,4,2014-03-25 18:08:00 UTC,-74.00405,40.752945,-74.001142,40.746912,5\\n2009-02-21 01:04:00.00000033,3.3,2009-02-21 01:04:00 UTC,-73.980863,40.750498,-73.981078,40.755962,1\\n2011-10-17 20:28:11.0000002,7.3,2011-10-17 20:28:11 UTC,-73.979963,40.743338,-73.988795,40.759566,1\\n2014-06-04 09:06:32.0000002,7,2014-06-04 09:06:32 UTC,-73.993851,40.720497,-74.007254,40.72667,1\\n2013-03-27 20:11:00.000000173,9,2013-03-27 20:11:00 UTC,-73.981078,40.764955,-73.960347,40.77567,1\\n2015-03-08 13:23:44.0000002,7.5,2015-03-08 13:23:44 UTC,-73.956069946289062,40.777915954589844,-73.949798583984375,40.783683776855469,1\\n2015-01-18 07:21:34.0000001,17.5,2015-01-18 07:21:34 UTC,-73.989501953125,40.666507720947266,-73.998306274414062,40.721103668212891,1\\n2010-08-27 11:00:'"
      ]
     },
     "execution_count": 12,
     "metadata": {},
     "output_type": "execute_result"
    }
   ],
   "source": [
    "data"
   ]
  },
  {
   "cell_type": "code",
   "execution_count": 13,
   "metadata": {},
   "outputs": [],
   "source": [
    "def chunk_file(f, chunksize=4096):\n",
    "    return iter(lambda: f.read(chunksize), b'')"
   ]
  },
  {
   "cell_type": "code",
   "execution_count": 15,
   "metadata": {},
   "outputs": [],
   "source": [
    "df = chunk_file('train1.csv')"
   ]
  },
  {
   "cell_type": "code",
   "execution_count": 16,
   "metadata": {},
   "outputs": [
    {
     "data": {
      "text/plain": [
       "callable_iterator"
      ]
     },
     "execution_count": 16,
     "metadata": {},
     "output_type": "execute_result"
    }
   ],
   "source": [
    "type(df)"
   ]
  },
  {
   "cell_type": "code",
   "execution_count": 17,
   "metadata": {},
   "outputs": [
    {
     "data": {
      "text/plain": [
       "<callable_iterator at 0x10dd3b1d0>"
      ]
     },
     "execution_count": 17,
     "metadata": {},
     "output_type": "execute_result"
    }
   ],
   "source": [
    "df"
   ]
  },
  {
   "cell_type": "code",
   "execution_count": null,
   "metadata": {},
   "outputs": [],
   "source": []
  },
  {
   "cell_type": "code",
   "execution_count": null,
   "metadata": {},
   "outputs": [],
   "source": []
  }
 ],
 "metadata": {
  "kernelspec": {
   "display_name": "Python 3",
   "language": "python",
   "name": "python3"
  },
  "language_info": {
   "codemirror_mode": {
    "name": "ipython",
    "version": 3
   },
   "file_extension": ".py",
   "mimetype": "text/x-python",
   "name": "python",
   "nbconvert_exporter": "python",
   "pygments_lexer": "ipython3",
   "version": "3.6.6"
  }
 },
 "nbformat": 4,
 "nbformat_minor": 2
}
