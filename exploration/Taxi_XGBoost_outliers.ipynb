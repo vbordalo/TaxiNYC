{
 "cells": [
  {
   "cell_type": "code",
   "execution_count": 1,
   "metadata": {},
   "outputs": [],
   "source": [
    "from pandas import read_csv, read_feather, concat\n",
    "import numpy as np"
   ]
  },
  {
   "cell_type": "code",
   "execution_count": 2,
   "metadata": {},
   "outputs": [],
   "source": [
    "def distance(lat1, lng1, lat2, lng2):\n",
    "    #return distance as meter if you want km distance, remove \"* 1000\"\n",
    "    radius = 6371\n",
    "\n",
    "    dLat = (lat2-lat1) * np.pi / 180\n",
    "    dLng = (lng2-lng1) * np.pi / 180\n",
    "\n",
    "    lat1 = lat1 * np.pi / 180\n",
    "    lat2 = lat2 * np.pi / 180\n",
    "\n",
    "    val = np.sin(dLat/2) * np.sin(dLat/2) + np.sin(dLng/2)\\\n",
    "    * np.sin(dLng/2) * np.cos(lat1) * np.cos(lat2)    \n",
    "    ang = 2 * np.arctan2(np.sqrt(val), np.sqrt(1-val))\n",
    "    return radius * ang"
   ]
  },
  {
   "cell_type": "code",
   "execution_count": 3,
   "metadata": {},
   "outputs": [],
   "source": [
    "def add_airport_dist(dataset):\n",
    "    \"\"\"\n",
    "    Return minumum distance from pickup or dropoff coordinates to each airport.\n",
    "    JFK: John F. Kennedy International Airport\n",
    "    EWR: Newark Liberty International Airport\n",
    "    LGA: LaGuardia Airport\n",
    "    \"\"\"\n",
    "    jfk_coord = (40.639722, -73.778889)\n",
    "    ewr_coord = (40.6925, -74.168611)\n",
    "    lga_coord = (40.77725, -73.872611)\n",
    "    \n",
    "    pickup_lat = dataset['pickup_latitude']\n",
    "    dropoff_lat = dataset['dropoff_latitude']\n",
    "    pickup_lon = dataset['pickup_longitude']\n",
    "    dropoff_lon = dataset['dropoff_longitude']\n",
    "    \n",
    "    pickup_jfk = distance(pickup_lat, pickup_lon, jfk_coord[0], jfk_coord[1]) \n",
    "    dropoff_jfk = distance(jfk_coord[0], jfk_coord[1], dropoff_lat, dropoff_lon) \n",
    "    pickup_ewr = distance(pickup_lat, pickup_lon, ewr_coord[0], ewr_coord[1])\n",
    "    dropoff_ewr = distance(ewr_coord[0], ewr_coord[1], dropoff_lat, dropoff_lon) \n",
    "    pickup_lga = distance(pickup_lat, pickup_lon, lga_coord[0], lga_coord[1]) \n",
    "    dropoff_lga = distance(lga_coord[0], lga_coord[1], dropoff_lat, dropoff_lon) \n",
    "    \n",
    "    dataset['jfk_dist'] = concat([pickup_jfk, dropoff_jfk], axis=1).min(axis=1)\n",
    "    dataset['ewr_dist'] = concat([pickup_ewr, dropoff_ewr], axis=1).min(axis=1)\n",
    "    dataset['lga_dist'] = concat([pickup_lga, dropoff_lga], axis=1).min(axis=1)\n",
    "    \n",
    "    return dataset"
   ]
  },
  {
   "cell_type": "code",
   "execution_count": 4,
   "metadata": {},
   "outputs": [
    {
     "name": "stdout",
     "output_type": "stream",
     "text": [
      "(9914, 7)\n"
     ]
    },
    {
     "data": {
      "text/html": [
       "<div>\n",
       "<style scoped>\n",
       "    .dataframe tbody tr th:only-of-type {\n",
       "        vertical-align: middle;\n",
       "    }\n",
       "\n",
       "    .dataframe tbody tr th {\n",
       "        vertical-align: top;\n",
       "    }\n",
       "\n",
       "    .dataframe thead th {\n",
       "        text-align: right;\n",
       "    }\n",
       "</style>\n",
       "<table border=\"1\" class=\"dataframe\">\n",
       "  <thead>\n",
       "    <tr style=\"text-align: right;\">\n",
       "      <th></th>\n",
       "      <th>key</th>\n",
       "      <th>pickup_datetime</th>\n",
       "      <th>pickup_longitude</th>\n",
       "      <th>pickup_latitude</th>\n",
       "      <th>dropoff_longitude</th>\n",
       "      <th>dropoff_latitude</th>\n",
       "      <th>passenger_count</th>\n",
       "    </tr>\n",
       "  </thead>\n",
       "  <tbody>\n",
       "    <tr>\n",
       "      <th>0</th>\n",
       "      <td>2015-01-27 13:08:24.0000002</td>\n",
       "      <td>2015-01-27 13:08:24</td>\n",
       "      <td>-73.973320</td>\n",
       "      <td>40.763805</td>\n",
       "      <td>-73.981430</td>\n",
       "      <td>40.743835</td>\n",
       "      <td>1</td>\n",
       "    </tr>\n",
       "    <tr>\n",
       "      <th>1</th>\n",
       "      <td>2015-01-27 13:08:24.0000003</td>\n",
       "      <td>2015-01-27 13:08:24</td>\n",
       "      <td>-73.986862</td>\n",
       "      <td>40.719383</td>\n",
       "      <td>-73.998886</td>\n",
       "      <td>40.739201</td>\n",
       "      <td>1</td>\n",
       "    </tr>\n",
       "    <tr>\n",
       "      <th>2</th>\n",
       "      <td>2011-10-08 11:53:44.0000002</td>\n",
       "      <td>2011-10-08 11:53:44</td>\n",
       "      <td>-73.982524</td>\n",
       "      <td>40.751260</td>\n",
       "      <td>-73.979654</td>\n",
       "      <td>40.746139</td>\n",
       "      <td>1</td>\n",
       "    </tr>\n",
       "    <tr>\n",
       "      <th>3</th>\n",
       "      <td>2012-12-01 21:12:12.0000002</td>\n",
       "      <td>2012-12-01 21:12:12</td>\n",
       "      <td>-73.981160</td>\n",
       "      <td>40.767807</td>\n",
       "      <td>-73.990448</td>\n",
       "      <td>40.751635</td>\n",
       "      <td>1</td>\n",
       "    </tr>\n",
       "    <tr>\n",
       "      <th>4</th>\n",
       "      <td>2012-12-01 21:12:12.0000003</td>\n",
       "      <td>2012-12-01 21:12:12</td>\n",
       "      <td>-73.966046</td>\n",
       "      <td>40.789775</td>\n",
       "      <td>-73.988565</td>\n",
       "      <td>40.744427</td>\n",
       "      <td>1</td>\n",
       "    </tr>\n",
       "  </tbody>\n",
       "</table>\n",
       "</div>"
      ],
      "text/plain": [
       "                           key     pickup_datetime  pickup_longitude  \\\n",
       "0  2015-01-27 13:08:24.0000002 2015-01-27 13:08:24        -73.973320   \n",
       "1  2015-01-27 13:08:24.0000003 2015-01-27 13:08:24        -73.986862   \n",
       "2  2011-10-08 11:53:44.0000002 2011-10-08 11:53:44        -73.982524   \n",
       "3  2012-12-01 21:12:12.0000002 2012-12-01 21:12:12        -73.981160   \n",
       "4  2012-12-01 21:12:12.0000003 2012-12-01 21:12:12        -73.966046   \n",
       "\n",
       "   pickup_latitude  dropoff_longitude  dropoff_latitude  passenger_count  \n",
       "0        40.763805         -73.981430         40.743835                1  \n",
       "1        40.719383         -73.998886         40.739201                1  \n",
       "2        40.751260         -73.979654         40.746139                1  \n",
       "3        40.767807         -73.990448         40.751635                1  \n",
       "4        40.789775         -73.988565         40.744427                1  "
      ]
     },
     "execution_count": 4,
     "metadata": {},
     "output_type": "execute_result"
    }
   ],
   "source": [
    "# No missing values\n",
    "test_df = read_csv('test.csv', parse_dates=[\"pickup_datetime\"],\n",
    "                  infer_datetime_format=True)\n",
    "print(test_df.shape)\n",
    "test_df.head()"
   ]
  },
  {
   "cell_type": "code",
   "execution_count": 5,
   "metadata": {},
   "outputs": [
    {
     "data": {
      "text/html": [
       "<div>\n",
       "<style scoped>\n",
       "    .dataframe tbody tr th:only-of-type {\n",
       "        vertical-align: middle;\n",
       "    }\n",
       "\n",
       "    .dataframe tbody tr th {\n",
       "        vertical-align: top;\n",
       "    }\n",
       "\n",
       "    .dataframe thead th {\n",
       "        text-align: right;\n",
       "    }\n",
       "</style>\n",
       "<table border=\"1\" class=\"dataframe\">\n",
       "  <thead>\n",
       "    <tr style=\"text-align: right;\">\n",
       "      <th></th>\n",
       "      <th>pickup_longitude</th>\n",
       "      <th>pickup_latitude</th>\n",
       "      <th>dropoff_longitude</th>\n",
       "      <th>dropoff_latitude</th>\n",
       "      <th>passenger_count</th>\n",
       "    </tr>\n",
       "  </thead>\n",
       "  <tbody>\n",
       "    <tr>\n",
       "      <th>count</th>\n",
       "      <td>9914.000000</td>\n",
       "      <td>9914.000000</td>\n",
       "      <td>9914.000000</td>\n",
       "      <td>9914.000000</td>\n",
       "      <td>9914.000000</td>\n",
       "    </tr>\n",
       "    <tr>\n",
       "      <th>mean</th>\n",
       "      <td>-73.974722</td>\n",
       "      <td>40.751041</td>\n",
       "      <td>-73.973657</td>\n",
       "      <td>40.751743</td>\n",
       "      <td>1.671273</td>\n",
       "    </tr>\n",
       "    <tr>\n",
       "      <th>std</th>\n",
       "      <td>0.042774</td>\n",
       "      <td>0.033541</td>\n",
       "      <td>0.039072</td>\n",
       "      <td>0.035435</td>\n",
       "      <td>1.278747</td>\n",
       "    </tr>\n",
       "    <tr>\n",
       "      <th>min</th>\n",
       "      <td>-74.252193</td>\n",
       "      <td>40.573143</td>\n",
       "      <td>-74.263242</td>\n",
       "      <td>40.568973</td>\n",
       "      <td>1.000000</td>\n",
       "    </tr>\n",
       "    <tr>\n",
       "      <th>25%</th>\n",
       "      <td>-73.992501</td>\n",
       "      <td>40.736125</td>\n",
       "      <td>-73.991247</td>\n",
       "      <td>40.735254</td>\n",
       "      <td>1.000000</td>\n",
       "    </tr>\n",
       "    <tr>\n",
       "      <th>50%</th>\n",
       "      <td>-73.982326</td>\n",
       "      <td>40.753051</td>\n",
       "      <td>-73.980015</td>\n",
       "      <td>40.754065</td>\n",
       "      <td>1.000000</td>\n",
       "    </tr>\n",
       "    <tr>\n",
       "      <th>75%</th>\n",
       "      <td>-73.968013</td>\n",
       "      <td>40.767113</td>\n",
       "      <td>-73.964059</td>\n",
       "      <td>40.768757</td>\n",
       "      <td>2.000000</td>\n",
       "    </tr>\n",
       "    <tr>\n",
       "      <th>max</th>\n",
       "      <td>-72.986532</td>\n",
       "      <td>41.709555</td>\n",
       "      <td>-72.990963</td>\n",
       "      <td>41.696683</td>\n",
       "      <td>6.000000</td>\n",
       "    </tr>\n",
       "  </tbody>\n",
       "</table>\n",
       "</div>"
      ],
      "text/plain": [
       "       pickup_longitude  pickup_latitude  dropoff_longitude  dropoff_latitude  \\\n",
       "count       9914.000000      9914.000000        9914.000000       9914.000000   \n",
       "mean         -73.974722        40.751041         -73.973657         40.751743   \n",
       "std            0.042774         0.033541           0.039072          0.035435   \n",
       "min          -74.252193        40.573143         -74.263242         40.568973   \n",
       "25%          -73.992501        40.736125         -73.991247         40.735254   \n",
       "50%          -73.982326        40.753051         -73.980015         40.754065   \n",
       "75%          -73.968013        40.767113         -73.964059         40.768757   \n",
       "max          -72.986532        41.709555         -72.990963         41.696683   \n",
       "\n",
       "       passenger_count  \n",
       "count      9914.000000  \n",
       "mean          1.671273  \n",
       "std           1.278747  \n",
       "min           1.000000  \n",
       "25%           1.000000  \n",
       "50%           1.000000  \n",
       "75%           2.000000  \n",
       "max           6.000000  "
      ]
     },
     "execution_count": 5,
     "metadata": {},
     "output_type": "execute_result"
    }
   ],
   "source": [
    "test_df.describe()"
   ]
  },
  {
   "cell_type": "code",
   "execution_count": 6,
   "metadata": {},
   "outputs": [],
   "source": [
    "lng1min = test_df.pickup_longitude.min()\n",
    "lng2min = test_df.dropoff_longitude.min()\n",
    "lat1min = test_df.pickup_latitude.min()\n",
    "lat2min = test_df.dropoff_latitude.min()\n",
    "#\n",
    "lng1max = test_df.pickup_longitude.max()\n",
    "lng2max = test_df.dropoff_longitude.max()\n",
    "lat1max = test_df.pickup_latitude.max()\n",
    "lat2max = test_df.dropoff_latitude.max()"
   ]
  },
  {
   "cell_type": "code",
   "execution_count": 7,
   "metadata": {},
   "outputs": [
    {
     "name": "stdout",
     "output_type": "stream",
     "text": [
      "(100000, 7)\n",
      "CPU times: user 44.4 ms, sys: 43.7 ms, total: 88 ms\n",
      "Wall time: 1.13 s\n"
     ]
    }
   ],
   "source": [
    "%%time\n",
    "# Read a subsample (train1) of the original dataset with 55M rows\n",
    "# It was obtained ramdomly using the command line subsample task:\n",
    "# >subsample --reservoir -n 2000000 train.csv -r > train1.csv\n",
    "train_df = read_feather('tmp/train100K.feather')\n",
    "print(train_df.shape)"
   ]
  },
  {
   "cell_type": "code",
   "execution_count": 8,
   "metadata": {},
   "outputs": [],
   "source": [
    "def transform(train_df):\n",
    "    \n",
    "    # Remove missing values\n",
    "    train_df = train_df.dropna(how = 'any', axis = 'rows')\n",
    "\n",
    "    # Remove absurd passenger_count\n",
    "    train_df = train_df[(train_df['passenger_count'] >= 1) &\n",
    "                    (train_df['passenger_count'] <= 6)]\n",
    "\n",
    "    # Remove negative and extreme fare_amount values\n",
    "    train_df = train_df[(train_df['fare_amount'] >= 2.5) & (train_df['fare_amount'] <= 200)]\n",
    "    print('Maximum fare_amount: %.1f' % train_df['fare_amount'].max())\n",
    "\n",
    "    # Remove no displacements\n",
    "    train_df = train_df[(train_df['pickup_latitude'] != train_df['dropoff_latitude'])]\n",
    "    train_df = train_df[(train_df['pickup_longitude'] != train_df['dropoff_longitude'])]\n",
    "\n",
    "    # Remove absurd displacements\n",
    "    train_df = train_df[(train_df['pickup_longitude'] >= lng1min) & (train_df['pickup_longitude'] <= lng1max)]\n",
    "    train_df = train_df[(train_df['dropoff_longitude'] >= lng2min) & (train_df['dropoff_longitude'] <= lng2max)]\n",
    "    train_df = train_df[(train_df['pickup_latitude'] >= lat1min) & (train_df['pickup_latitude'] <= lat1max)]\n",
    "    train_df = train_df[(train_df['dropoff_latitude'] >= lat2min) & (train_df['dropoff_latitude'] <= lat2max)]\n",
    "\n",
    "    # Create new features - distance\n",
    "    train_df['dist'] = distance(train_df['pickup_latitude'], train_df['pickup_longitude'],\n",
    "                                train_df['dropoff_latitude'], train_df['dropoff_longitude'])\n",
    "    train_df = train_df[train_df['dist'] <= 100]\n",
    "\n",
    "    # Create new features - dayofweek,hour,month,year\n",
    "    train_df['dayofweek'] = train_df['pickup_datetime'].dt.dayofweek.astype('uint8')\n",
    "    train_df['hour'] = train_df['pickup_datetime'].dt.hour.astype('uint8')\n",
    "    train_df['month'] = train_df['pickup_datetime'].dt.month.astype('uint8')\n",
    "    train_df['year'] = train_df['pickup_datetime'].dt.year.astype('uint16')\n",
    "\n",
    "    # Add minimum distances to the airports\n",
    "    add_airport_dist(train_df)\n",
    "    \n",
    "    # Create dataframes for the two periods\n",
    "    P1 = train_df[(train_df['pickup_datetime'] < '2012-09-01')]\n",
    "    P1 = P1.drop(['pickup_datetime'], axis=1)\n",
    "    print(P1.shape)\n",
    "    P2 = train_df.loc[(train_df['pickup_datetime'] >= '2012-09-01')]\n",
    "    P2 = P2.drop(['pickup_datetime'], axis=1)\n",
    "    print(P2.shape)\n",
    "\n",
    "    # Save memory\n",
    "    print(train_df.shape)\n",
    "    print('Maximum ride distance: %.1f' % train_df['dist'].max())\n",
    "    del train_df\n",
    "    return P1,P2"
   ]
  },
  {
   "cell_type": "code",
   "execution_count": 9,
   "metadata": {},
   "outputs": [
    {
     "name": "stdout",
     "output_type": "stream",
     "text": [
      "Maximum fare_amount: 195.0\n",
      "(54940, 14)\n",
      "(41496, 14)\n",
      "(96436, 15)\n",
      "Maximum ride distance: 98.4\n"
     ]
    }
   ],
   "source": [
    "P1, P2 = transform(train_df)"
   ]
  },
  {
   "cell_type": "code",
   "execution_count": 10,
   "metadata": {},
   "outputs": [
    {
     "data": {
      "text/html": [
       "<div>\n",
       "<style scoped>\n",
       "    .dataframe tbody tr th:only-of-type {\n",
       "        vertical-align: middle;\n",
       "    }\n",
       "\n",
       "    .dataframe tbody tr th {\n",
       "        vertical-align: top;\n",
       "    }\n",
       "\n",
       "    .dataframe thead th {\n",
       "        text-align: right;\n",
       "    }\n",
       "</style>\n",
       "<table border=\"1\" class=\"dataframe\">\n",
       "  <thead>\n",
       "    <tr style=\"text-align: right;\">\n",
       "      <th></th>\n",
       "      <th>fare_amount</th>\n",
       "      <th>pickup_longitude</th>\n",
       "      <th>pickup_latitude</th>\n",
       "      <th>dropoff_longitude</th>\n",
       "      <th>dropoff_latitude</th>\n",
       "      <th>passenger_count</th>\n",
       "      <th>dist</th>\n",
       "      <th>dayofweek</th>\n",
       "      <th>hour</th>\n",
       "      <th>month</th>\n",
       "      <th>year</th>\n",
       "      <th>jfk_dist</th>\n",
       "      <th>ewr_dist</th>\n",
       "      <th>lga_dist</th>\n",
       "    </tr>\n",
       "  </thead>\n",
       "  <tbody>\n",
       "    <tr>\n",
       "      <th>2</th>\n",
       "      <td>4.50</td>\n",
       "      <td>-74.002281</td>\n",
       "      <td>40.726578</td>\n",
       "      <td>-74.009583</td>\n",
       "      <td>40.723598</td>\n",
       "      <td>2</td>\n",
       "      <td>0.698792</td>\n",
       "      <td>5</td>\n",
       "      <td>22</td>\n",
       "      <td>8</td>\n",
       "      <td>2012</td>\n",
       "      <td>21.168234</td>\n",
       "      <td>13.843294</td>\n",
       "      <td>12.290257</td>\n",
       "    </tr>\n",
       "    <tr>\n",
       "      <th>3</th>\n",
       "      <td>14.50</td>\n",
       "      <td>-73.932800</td>\n",
       "      <td>40.758900</td>\n",
       "      <td>-73.995003</td>\n",
       "      <td>40.736599</td>\n",
       "      <td>1</td>\n",
       "      <td>5.797079</td>\n",
       "      <td>5</td>\n",
       "      <td>23</td>\n",
       "      <td>10</td>\n",
       "      <td>2011</td>\n",
       "      <td>18.546139</td>\n",
       "      <td>15.431745</td>\n",
       "      <td>5.463948</td>\n",
       "    </tr>\n",
       "    <tr>\n",
       "      <th>6</th>\n",
       "      <td>4.10</td>\n",
       "      <td>-73.970421</td>\n",
       "      <td>40.759384</td>\n",
       "      <td>-73.961517</td>\n",
       "      <td>40.760220</td>\n",
       "      <td>1</td>\n",
       "      <td>0.755629</td>\n",
       "      <td>2</td>\n",
       "      <td>21</td>\n",
       "      <td>11</td>\n",
       "      <td>2010</td>\n",
       "      <td>20.409483</td>\n",
       "      <td>18.281992</td>\n",
       "      <td>7.722772</td>\n",
       "    </tr>\n",
       "    <tr>\n",
       "      <th>9</th>\n",
       "      <td>4.10</td>\n",
       "      <td>-73.972519</td>\n",
       "      <td>40.749611</td>\n",
       "      <td>-73.977600</td>\n",
       "      <td>40.745651</td>\n",
       "      <td>2</td>\n",
       "      <td>0.614066</td>\n",
       "      <td>1</td>\n",
       "      <td>14</td>\n",
       "      <td>8</td>\n",
       "      <td>2012</td>\n",
       "      <td>20.390841</td>\n",
       "      <td>17.148228</td>\n",
       "      <td>8.957843</td>\n",
       "    </tr>\n",
       "    <tr>\n",
       "      <th>10</th>\n",
       "      <td>26.65</td>\n",
       "      <td>-73.862633</td>\n",
       "      <td>40.768875</td>\n",
       "      <td>-73.986191</td>\n",
       "      <td>40.749622</td>\n",
       "      <td>1</td>\n",
       "      <td>10.624672</td>\n",
       "      <td>0</td>\n",
       "      <td>16</td>\n",
       "      <td>3</td>\n",
       "      <td>2009</td>\n",
       "      <td>16.002337</td>\n",
       "      <td>16.633610</td>\n",
       "      <td>1.254210</td>\n",
       "    </tr>\n",
       "  </tbody>\n",
       "</table>\n",
       "</div>"
      ],
      "text/plain": [
       "    fare_amount  pickup_longitude  pickup_latitude  dropoff_longitude  \\\n",
       "2          4.50        -74.002281        40.726578         -74.009583   \n",
       "3         14.50        -73.932800        40.758900         -73.995003   \n",
       "6          4.10        -73.970421        40.759384         -73.961517   \n",
       "9          4.10        -73.972519        40.749611         -73.977600   \n",
       "10        26.65        -73.862633        40.768875         -73.986191   \n",
       "\n",
       "    dropoff_latitude  passenger_count       dist  dayofweek  hour  month  \\\n",
       "2          40.723598                2   0.698792          5    22      8   \n",
       "3          40.736599                1   5.797079          5    23     10   \n",
       "6          40.760220                1   0.755629          2    21     11   \n",
       "9          40.745651                2   0.614066          1    14      8   \n",
       "10         40.749622                1  10.624672          0    16      3   \n",
       "\n",
       "    year   jfk_dist   ewr_dist   lga_dist  \n",
       "2   2012  21.168234  13.843294  12.290257  \n",
       "3   2011  18.546139  15.431745   5.463948  \n",
       "6   2010  20.409483  18.281992   7.722772  \n",
       "9   2012  20.390841  17.148228   8.957843  \n",
       "10  2009  16.002337  16.633610   1.254210  "
      ]
     },
     "execution_count": 10,
     "metadata": {},
     "output_type": "execute_result"
    }
   ],
   "source": [
    "P1.head()"
   ]
  },
  {
   "cell_type": "markdown",
   "metadata": {},
   "source": [
    "## Find outliers in P1"
   ]
  },
  {
   "cell_type": "markdown",
   "metadata": {},
   "source": [
    "## Model P1"
   ]
  },
  {
   "cell_type": "code",
   "execution_count": 51,
   "metadata": {},
   "outputs": [],
   "source": [
    "from sklearn.model_selection import train_test_split\n",
    "\n",
    "X = P1.iloc[:,1:]\n",
    "y = P1.iloc[:,0]\n",
    "\n",
    "seed = 101\n",
    "\n",
    "X_train, X_test, y_train, y_test = train_test_split(X, y,\n",
    "                                                   test_size=0.1, random_state=seed)"
   ]
  },
  {
   "cell_type": "code",
   "execution_count": 57,
   "metadata": {},
   "outputs": [
    {
     "name": "stdout",
     "output_type": "stream",
     "text": [
      "RMSE before gridsearch train set: 3.2730\n",
      "RMSE before gridsearch test set: 3.6069\n",
      "CPU times: user 3min 10s, sys: 10.9 s, total: 3min 21s\n",
      "Wall time: 50.6 s\n"
     ]
    }
   ],
   "source": [
    "%%time\n",
    "import xgboost as xgb\n",
    "from xgboost.sklearn import XGBRegressor\n",
    "from sklearn.metrics import mean_squared_error\n",
    "\n",
    "modelP1=xgb.XGBRegressor(colsample_bytree=0.8,\n",
    "                         gamma=0,\n",
    "                         learning_rate=0.05,\n",
    "                         max_depth=8,\n",
    "                         min_child_weight=1,\n",
    "                         n_estimators=100,\n",
    "                         objective= \"reg:linear\",\n",
    "                         nthread=-1)\n",
    "\n",
    "modelP1.fit(X_train,y_train)\n",
    "y_pred = modelP1.predict(X_train)\n",
    "print('RMSE before gridsearch train set: %.4f' % np.sqrt(mean_squared_error(y_pred,y_train)))\n",
    "y_pred_test = modelP1.predict(X_test)\n",
    "print('RMSE before gridsearch test set: %.4f' % np.sqrt(mean_squared_error(y_pred_test,y_test)))"
   ]
  },
  {
   "cell_type": "code",
   "execution_count": 58,
   "metadata": {},
   "outputs": [
    {
     "name": "stdout",
     "output_type": "stream",
     "text": [
      "R^2: 0.8548\n",
      "MSE: 10.7125\n",
      "MAE: 1.8201\n",
      "rms: 3.2730\n"
     ]
    },
    {
     "data": {
      "image/png": "[encoded data removed]",
      "text/plain": [
       "<Figure size 1080x720 with 2 Axes>"
      ]
     },
     "metadata": {},
     "output_type": "display_data"
    }
   ],
   "source": [
    "K = X_train.shape[1]+1\n",
    "rms = np.sqrt(sum((y_train-y_pred)**2)/(len(y_train)-K))\n",
    "\n",
    "import matplotlib.pyplot as plt\n",
    "%matplotlib inline\n",
    "from sklearn.metrics import r2_score\n",
    "from sklearn.metrics import mean_squared_error\n",
    "from sklearn.metrics import mean_absolute_error\n",
    "\n",
    "print('R^2: %.4f' % r2_score(y_train,y_pred))\n",
    "print('MSE: %.4f' % mean_squared_error(y_train,y_pred))\n",
    "print('MAE: %.4f' % mean_absolute_error(y_train,y_pred))\n",
    "print('rms: %.4f' % rms)\n",
    "\n",
    "plt.figure(figsize=(15, 10))\n",
    "ax1 = plt.subplot(121)\n",
    "ax1.scatter(y_pred, y_train, c = 'blue', alpha = 0.5)\n",
    "ax1.plot((0,200),(0,200), c = 'black', linestyle = 'dashed')\n",
    "ax1.set_title('Training Set')\n",
    "ax1.set_xlabel('y_pred_train')\n",
    "ax1.set_ylabel('y_train')\n",
    "\n",
    "ax2 = plt.subplot(122)\n",
    "ax2.scatter(y_pred, y_pred - y_train, c = 'blue', alpha = 0.5)\n",
    "ax2.plot((0,200),(0,0), c = 'black', linestyle = 'dashed')\n",
    "ax2.set_title('Training Set')\n",
    "ax2.set_xlabel('y_pred_train')\n",
    "ax2.set_ylabel('Residuals')\n",
    "\n",
    "plt.subplots_adjust(wspace=0.4, top=0.5)\n",
    "plt.show()"
   ]
  },
  {
   "cell_type": "code",
   "execution_count": 60,
   "metadata": {},
   "outputs": [
    {
     "data": {
      "text/plain": [
       "(125,)"
      ]
     },
     "execution_count": 60,
     "metadata": {},
     "output_type": "execute_result"
    }
   ],
   "source": [
    "# Find outliers\n",
    "res = y_pred - y_train\n",
    "out = res[res<-50].index\n",
    "out.shape"
   ]
  },
  {
   "cell_type": "code",
   "execution_count": 61,
   "metadata": {},
   "outputs": [],
   "source": [
    "out125 = out"
   ]
  },
  {
   "cell_type": "code",
   "execution_count": 62,
   "metadata": {},
   "outputs": [],
   "source": [
    "def testplotO(a, b):\n",
    "\n",
    "    K = X_test.shape[1]+1\n",
    "    rms = np.sqrt(sum((y_test-y_pred_test)**2)/(len(y_test)-K))\n",
    "\n",
    "    from sklearn.metrics import r2_score\n",
    "    from sklearn.metrics import mean_squared_error\n",
    "    from sklearn.metrics import mean_absolute_error\n",
    "\n",
    "    print('R^2: %.4f' % r2_score(a, b))\n",
    "    print('MSE: %.4f' % mean_squared_error(a, b))\n",
    "    print('MAE: %.4f' % mean_absolute_error(a, b))\n",
    "    print('rms: %.4f' % rms)\n",
    "\n",
    "    plt.figure(figsize=(15, 10))\n",
    "    ax1 = plt.subplot(121)\n",
    "    ax1.scatter(b, a, c = 'green', alpha = 0.5)\n",
    "    ax1.plot((0,200),(0,200), c = 'black', linestyle = 'dashed')\n",
    "    ax1.set_title('Test Set')\n",
    "    ax1.set_xlabel('y_pred_test')\n",
    "    ax1.set_ylabel('y_test')\n",
    "\n",
    "    ax2 = plt.subplot(122)\n",
    "    ax2.scatter(b, b - a, c = 'green', alpha = 0.5)\n",
    "    ax2.plot((0,200),(0,0), c = 'black', linestyle = 'dashed')\n",
    "    ax2.set_title('Test Set')\n",
    "    ax2.set_xlabel('y_pred_test')\n",
    "    ax2.set_ylabel('Residuals')\n",
    "\n",
    "    plt.subplots_adjust(wspace=0.4, top=0.5)\n",
    "    plt.show()"
   ]
  },
  {
   "cell_type": "code",
   "execution_count": 63,
   "metadata": {},
   "outputs": [
    {
     "name": "stdout",
     "output_type": "stream",
     "text": [
      "R^2: 0.8248\n",
      "MSE: 13.0094\n",
      "MAE: 1.8736\n",
      "rms: 3.6071\n"
     ]
    },
    {
     "data": {
      "image/png": "[encoded data removed]",
      "text/plain": [
       "<Figure size 1080x720 with 2 Axes>"
      ]
     },
     "metadata": {},
     "output_type": "display_data"
    }
   ],
   "source": [
    "testplotO(y_test, y_pred_test)"
   ]
  },
  {
   "cell_type": "code",
   "execution_count": 64,
   "metadata": {},
   "outputs": [],
   "source": [
    "# Find outliers\n",
    "#res = y_pred_test - y_test\n",
    "#res[res<-40]"
   ]
  },
  {
   "cell_type": "markdown",
   "metadata": {},
   "source": [
    "## Find outliers in P2"
   ]
  },
  {
   "cell_type": "code",
   "execution_count": 114,
   "metadata": {},
   "outputs": [],
   "source": [
    "from sklearn.model_selection import train_test_split\n",
    "\n",
    "X = P2.iloc[:,1:]\n",
    "y = P2.iloc[:,0]\n",
    "\n",
    "seed = 101\n",
    "\n",
    "X_train, X_test, y_train, y_test = train_test_split(X, y,\n",
    "                                                   test_size=0.1, random_state=seed)"
   ]
  },
  {
   "cell_type": "code",
   "execution_count": 116,
   "metadata": {},
   "outputs": [
    {
     "name": "stdout",
     "output_type": "stream",
     "text": [
      "RMSE before gridsearch train set: 3.2149\n",
      "RMSE before gridsearch test set: 3.6081\n",
      "CPU times: user 4min 40s, sys: 13.9 s, total: 4min 54s\n",
      "Wall time: 1min 9s\n"
     ]
    }
   ],
   "source": [
    "%%time\n",
    "import xgboost as xgb\n",
    "from xgboost.sklearn import XGBRegressor\n",
    "from sklearn.metrics import mean_squared_error\n",
    "\n",
    "modelP2=xgb.XGBRegressor(colsample_bytree=0.8,\n",
    "                         gamma=0,\n",
    "                         learning_rate=0.05,\n",
    "                         max_depth=8,\n",
    "                         min_child_weight=1,\n",
    "                         n_estimators=100,\n",
    "                         objective= \"reg:linear\",\n",
    "                         nthread=-1)\n",
    "\n",
    "modelP2.fit(X_train,y_train)\n",
    "y_pred = modelP2.predict(X_train)\n",
    "print('RMSE before gridsearch train set: %.4f' % np.sqrt(mean_squared_error(y_pred,y_train)))\n",
    "y_pred_test = modelP2.predict(X_test)\n",
    "print('RMSE before gridsearch test set: %.4f' % np.sqrt(mean_squared_error(y_pred_test,y_test)))"
   ]
  },
  {
   "cell_type": "code",
   "execution_count": 117,
   "metadata": {},
   "outputs": [
    {
     "name": "stdout",
     "output_type": "stream",
     "text": [
      "R^2: 0.9095\n",
      "MSE: 10.3359\n",
      "MAE: 1.7651\n",
      "rms: 3.2150\n"
     ]
    },
    {
     "data": {
      "image/png": "[encoded data removed]",
      "text/plain": [
       "<Figure size 1080x720 with 2 Axes>"
      ]
     },
     "metadata": {},
     "output_type": "display_data"
    }
   ],
   "source": [
    "K = X_train.shape[1]+1\n",
    "rms = np.sqrt(sum((y_train-y_pred)**2)/(len(y_train)-K))\n",
    "\n",
    "import matplotlib.pyplot as plt\n",
    "%matplotlib inline\n",
    "from sklearn.metrics import r2_score\n",
    "from sklearn.metrics import mean_squared_error\n",
    "from sklearn.metrics import mean_absolute_error\n",
    "\n",
    "print('R^2: %.4f' % r2_score(y_train,y_pred))\n",
    "print('MSE: %.4f' % mean_squared_error(y_train,y_pred))\n",
    "print('MAE: %.4f' % mean_absolute_error(y_train,y_pred))\n",
    "print('rms: %.4f' % rms)\n",
    "\n",
    "plt.figure(figsize=(15, 10))\n",
    "ax1 = plt.subplot(121)\n",
    "ax1.scatter(y_pred, y_train, c = 'blue', alpha = 0.5)\n",
    "ax1.plot((0,200),(0,200), c = 'black', linestyle = 'dashed')\n",
    "ax1.set_title('Training Set')\n",
    "ax1.set_xlabel('y_pred_train')\n",
    "ax1.set_ylabel('y_train')\n",
    "\n",
    "ax2 = plt.subplot(122)\n",
    "ax2.scatter(y_pred, y_pred - y_train, c = 'blue', alpha = 0.5)\n",
    "ax2.plot((0,200),(0,0), c = 'black', linestyle = 'dashed')\n",
    "ax2.set_title('Training Set')\n",
    "ax2.set_xlabel('y_pred_train')\n",
    "ax2.set_ylabel('Residuals')\n",
    "\n",
    "plt.subplots_adjust(wspace=0.4, top=0.5)\n",
    "plt.show()"
   ]
  },
  {
   "cell_type": "code",
   "execution_count": 118,
   "metadata": {},
   "outputs": [
    {
     "data": {
      "text/plain": [
       "(158,)"
      ]
     },
     "execution_count": 118,
     "metadata": {},
     "output_type": "execute_result"
    }
   ],
   "source": [
    "# Find outliers\n",
    "res = y_pred - y_train\n",
    "out = res[res<-50].index\n",
    "out.shape"
   ]
  },
  {
   "cell_type": "code",
   "execution_count": 120,
   "metadata": {},
   "outputs": [],
   "source": [
    "out158 = out"
   ]
  },
  {
   "cell_type": "markdown",
   "metadata": {},
   "source": [
    "## Model P1 - without outliers"
   ]
  },
  {
   "cell_type": "code",
   "execution_count": 100,
   "metadata": {},
   "outputs": [
    {
     "name": "stdout",
     "output_type": "stream",
     "text": [
      "(2000000, 7)\n",
      "(1999875, 7)\n"
     ]
    }
   ],
   "source": [
    "train_df = read_feather('tmp/train1.feather')\n",
    "print(train_df.shape)\n",
    "train_df = train_df.drop(out125)\n",
    "print(train_df.shape)\n",
    "P1, P2 = transform(train_df)"
   ]
  },
  {
   "cell_type": "code",
   "execution_count": 102,
   "metadata": {},
   "outputs": [],
   "source": [
    "from sklearn.model_selection import train_test_split\n",
    "\n",
    "X = P1.iloc[:,1:].values\n",
    "y = np.log10(P1.iloc[:,0].values)\n",
    "\n",
    "seed = 101\n",
    "\n",
    "X_train, X_test, y_train, y_test = train_test_split(X, y,\n",
    "                                                   test_size=0.3, random_state=seed)"
   ]
  },
  {
   "cell_type": "code",
   "execution_count": 103,
   "metadata": {},
   "outputs": [
    {
     "name": "stdout",
     "output_type": "stream",
     "text": [
      "RMSE before gridsearch: 0.0953\n",
      "CPU times: user 43min 16s, sys: 2min 4s, total: 45min 21s\n",
      "Wall time: 10min 19s\n"
     ]
    }
   ],
   "source": [
    "%%time\n",
    "import xgboost as xgb\n",
    "from xgboost.sklearn import XGBRegressor\n",
    "from sklearn.metrics import mean_squared_error\n",
    "\n",
    "modelP1=xgb.XGBRegressor(colsample_bytree=0.8,\n",
    "                         gamma=0,\n",
    "                         learning_rate=0.05,\n",
    "                         max_depth=20,\n",
    "                         min_child_weight=1,\n",
    "                         n_estimators=300,\n",
    "                         objective= \"reg:linear\",\n",
    "                         nthread=-1)\n",
    "\n",
    "modelP1.fit(X_train,y_train)\n",
    "y_pred = modelP1.predict(X_test)\n",
    "print('RMSE before gridsearch: %.4f' % np.sqrt(mean_squared_error(y_pred,y_test)))"
   ]
  },
  {
   "cell_type": "markdown",
   "metadata": {},
   "source": [
    "### GridSearchCV - Model 1"
   ]
  },
  {
   "cell_type": "code",
   "execution_count": null,
   "metadata": {},
   "outputs": [],
   "source": [
    "params = {'max_depth':[10,15],\n",
    "          'n_estimators':[50],\n",
    "          'min_child_weight':range(1,3),\n",
    "          'learning_rate':[.1,.01],\n",
    "          'colsample_bytree':[.9],\n",
    "          'gamma':[0,1]}"
   ]
  },
  {
   "cell_type": "code",
   "execution_count": null,
   "metadata": {},
   "outputs": [],
   "source": [
    "from sklearn.model_selection import GridSearchCV\n",
    "\n",
    "#with the parameter nthread we specify XGBoost for parallelisation\n",
    "modelP1 = xgb.XGBRegressor(objective= \"reg:linear\",nthread=-1)\n",
    "\n",
    "# Grid search cross-validation \n",
    "M1=GridSearchCV(estimator=modelP1,param_grid=params,n_jobs=-1,\n",
    "                 scoring='neg_mean_absolute_error',verbose=True)"
   ]
  },
  {
   "cell_type": "code",
   "execution_count": null,
   "metadata": {},
   "outputs": [],
   "source": [
    "%%time\n",
    "M1.fit(X_train,y_train)\n",
    "print(M1.best_params_)\n",
    "y_pred = M1.predict(X_test)\n",
    "print('RMSE after gridsearch: %.3f' % np.sqrt(mean_squared_error(y_pred,y_test)))"
   ]
  },
  {
   "cell_type": "markdown",
   "metadata": {},
   "source": [
    "## Model P2 - without outliers"
   ]
  },
  {
   "cell_type": "code",
   "execution_count": 121,
   "metadata": {},
   "outputs": [
    {
     "name": "stdout",
     "output_type": "stream",
     "text": [
      "(2000000, 7)\n",
      "(1999842, 7)\n",
      "Maximum fare_amount: 200.0\n",
      "(1099583, 14)\n",
      "(827558, 14)\n",
      "(1927141, 15)\n",
      "Maximum ride distance: 99.9\n"
     ]
    }
   ],
   "source": [
    "train_df = read_feather('tmp/train1.feather')\n",
    "print(train_df.shape)\n",
    "train_df = train_df.drop(out158)\n",
    "print(train_df.shape)\n",
    "P1, P2 = transform(train_df)"
   ]
  },
  {
   "cell_type": "code",
   "execution_count": 122,
   "metadata": {},
   "outputs": [],
   "source": [
    "from sklearn.model_selection import train_test_split\n",
    "\n",
    "X = P2.iloc[:,1:].values\n",
    "y = np.log10(P2.iloc[:,0].values)\n",
    "\n",
    "seed = 101\n",
    "\n",
    "X_train, X_test, y_train, y_test = train_test_split(X, y,\n",
    "                                                   test_size=0.3, random_state=seed)"
   ]
  },
  {
   "cell_type": "code",
   "execution_count": 123,
   "metadata": {},
   "outputs": [
    {
     "name": "stdout",
     "output_type": "stream",
     "text": [
      "RMSE before gridsearch: 0.0920\n",
      "CPU times: user 29min 22s, sys: 1min 39s, total: 31min 2s\n",
      "Wall time: 7min 29s\n"
     ]
    }
   ],
   "source": [
    "%%time\n",
    "import xgboost as xgb\n",
    "from xgboost.sklearn import XGBRegressor\n",
    "from sklearn.metrics import mean_squared_error\n",
    "\n",
    "modelP2=xgb.XGBRegressor(colsample_bytree=0.8,\n",
    "                         gamma=0,\n",
    "                         learning_rate=0.05,\n",
    "                         max_depth=20,\n",
    "                         min_child_weight=1,\n",
    "                         n_estimators=300,\n",
    "                         objective= \"reg:linear\",\n",
    "                         nthread=-1)\n",
    "\n",
    "modelP2.fit(X_train,y_train)\n",
    "y_pred = modelP2.predict(X_test)\n",
    "print('RMSE before gridsearch: %.4f' % np.sqrt(mean_squared_error(y_pred,y_test)))"
   ]
  },
  {
   "cell_type": "markdown",
   "metadata": {},
   "source": [
    "### GridSearchCV - Model 2"
   ]
  },
  {
   "cell_type": "code",
   "execution_count": null,
   "metadata": {},
   "outputs": [],
   "source": [
    "params = {'max_depth':[6,8,10],\n",
    "          'n_estimators':[100],\n",
    "          'min_child_weight':range(1,3),\n",
    "          'learning_rate':[.1,.01,.001],\n",
    "          'colsample_bytree':[.8,.9,1],\n",
    "          'gamma':[0,1]}"
   ]
  },
  {
   "cell_type": "code",
   "execution_count": null,
   "metadata": {},
   "outputs": [],
   "source": [
    "from sklearn.model_selection import GridSearchCV\n",
    "\n",
    "#with the parameter nthread we specify XGBoost for parallelisation\n",
    "modelP2 = xgb.XGBRegressor(objective= \"reg:linear\",nthread=-1)\n",
    "\n",
    "# Grid search cross-validation \n",
    "M2=GridSearchCV(estimator=modelP2,param_grid=params,n_jobs=-1,\n",
    "                 scoring='neg_mean_absolute_error',verbose=True)"
   ]
  },
  {
   "cell_type": "code",
   "execution_count": null,
   "metadata": {},
   "outputs": [],
   "source": [
    "%%time\n",
    "M2.fit(X_train,y_train)\n",
    "print(M2.best_params_)\n",
    "y_pred = M2.predict(X_test)\n",
    "print('RMSE after gridsearch: %.3f' % np.sqrt(mean_squared_error(y_pred,y_test)))"
   ]
  },
  {
   "cell_type": "markdown",
   "metadata": {},
   "source": [
    "## Make predictions on the test set"
   ]
  },
  {
   "cell_type": "code",
   "execution_count": 124,
   "metadata": {},
   "outputs": [
    {
     "name": "stdout",
     "output_type": "stream",
     "text": [
      "Minimum ride distance: 0.0\n",
      "Maximum ride distance: 100.0\n"
     ]
    },
    {
     "data": {
      "text/html": [
       "<div>\n",
       "<style scoped>\n",
       "    .dataframe tbody tr th:only-of-type {\n",
       "        vertical-align: middle;\n",
       "    }\n",
       "\n",
       "    .dataframe tbody tr th {\n",
       "        vertical-align: top;\n",
       "    }\n",
       "\n",
       "    .dataframe thead th {\n",
       "        text-align: right;\n",
       "    }\n",
       "</style>\n",
       "<table border=\"1\" class=\"dataframe\">\n",
       "  <thead>\n",
       "    <tr style=\"text-align: right;\">\n",
       "      <th></th>\n",
       "      <th>key</th>\n",
       "      <th>pickup_datetime</th>\n",
       "      <th>pickup_longitude</th>\n",
       "      <th>pickup_latitude</th>\n",
       "      <th>dropoff_longitude</th>\n",
       "      <th>dropoff_latitude</th>\n",
       "      <th>passenger_count</th>\n",
       "      <th>dist</th>\n",
       "      <th>dayofweek</th>\n",
       "      <th>hour</th>\n",
       "      <th>month</th>\n",
       "      <th>year</th>\n",
       "      <th>jfk_dist</th>\n",
       "      <th>ewr_dist</th>\n",
       "      <th>lga_dist</th>\n",
       "    </tr>\n",
       "  </thead>\n",
       "  <tbody>\n",
       "    <tr>\n",
       "      <th>0</th>\n",
       "      <td>2015-01-27 13:08:24.0000002</td>\n",
       "      <td>2015-01-27 13:08:24</td>\n",
       "      <td>-73.973320</td>\n",
       "      <td>40.763805</td>\n",
       "      <td>-73.981430</td>\n",
       "      <td>40.743835</td>\n",
       "      <td>1</td>\n",
       "      <td>2.323260</td>\n",
       "      <td>1</td>\n",
       "      <td>13</td>\n",
       "      <td>1</td>\n",
       "      <td>2015</td>\n",
       "      <td>20.630787</td>\n",
       "      <td>16.776178</td>\n",
       "      <td>8.611599</td>\n",
       "    </tr>\n",
       "    <tr>\n",
       "      <th>1</th>\n",
       "      <td>2015-01-27 13:08:24.0000003</td>\n",
       "      <td>2015-01-27 13:08:24</td>\n",
       "      <td>-73.986862</td>\n",
       "      <td>40.719383</td>\n",
       "      <td>-73.998886</td>\n",
       "      <td>40.739201</td>\n",
       "      <td>1</td>\n",
       "      <td>2.425353</td>\n",
       "      <td>1</td>\n",
       "      <td>13</td>\n",
       "      <td>1</td>\n",
       "      <td>2015</td>\n",
       "      <td>19.647702</td>\n",
       "      <td>15.217920</td>\n",
       "      <td>11.446400</td>\n",
       "    </tr>\n",
       "    <tr>\n",
       "      <th>2</th>\n",
       "      <td>2011-10-08 11:53:44.0000002</td>\n",
       "      <td>2011-10-08 11:53:44</td>\n",
       "      <td>-73.982524</td>\n",
       "      <td>40.751260</td>\n",
       "      <td>-73.979654</td>\n",
       "      <td>40.746139</td>\n",
       "      <td>1</td>\n",
       "      <td>0.618628</td>\n",
       "      <td>5</td>\n",
       "      <td>11</td>\n",
       "      <td>10</td>\n",
       "      <td>2011</td>\n",
       "      <td>20.652459</td>\n",
       "      <td>16.988793</td>\n",
       "      <td>9.656367</td>\n",
       "    </tr>\n",
       "    <tr>\n",
       "      <th>3</th>\n",
       "      <td>2012-12-01 21:12:12.0000002</td>\n",
       "      <td>2012-12-01 21:12:12</td>\n",
       "      <td>-73.981160</td>\n",
       "      <td>40.767807</td>\n",
       "      <td>-73.990448</td>\n",
       "      <td>40.751635</td>\n",
       "      <td>1</td>\n",
       "      <td>1.961033</td>\n",
       "      <td>5</td>\n",
       "      <td>21</td>\n",
       "      <td>12</td>\n",
       "      <td>2012</td>\n",
       "      <td>21.747868</td>\n",
       "      <td>16.391035</td>\n",
       "      <td>9.200895</td>\n",
       "    </tr>\n",
       "    <tr>\n",
       "      <th>4</th>\n",
       "      <td>2012-12-01 21:12:12.0000003</td>\n",
       "      <td>2012-12-01 21:12:12</td>\n",
       "      <td>-73.966046</td>\n",
       "      <td>40.789775</td>\n",
       "      <td>-73.988565</td>\n",
       "      <td>40.744427</td>\n",
       "      <td>1</td>\n",
       "      <td>5.387301</td>\n",
       "      <td>5</td>\n",
       "      <td>21</td>\n",
       "      <td>12</td>\n",
       "      <td>2012</td>\n",
       "      <td>21.167442</td>\n",
       "      <td>16.235246</td>\n",
       "      <td>7.989082</td>\n",
       "    </tr>\n",
       "  </tbody>\n",
       "</table>\n",
       "</div>"
      ],
      "text/plain": [
       "                           key     pickup_datetime  pickup_longitude  \\\n",
       "0  2015-01-27 13:08:24.0000002 2015-01-27 13:08:24        -73.973320   \n",
       "1  2015-01-27 13:08:24.0000003 2015-01-27 13:08:24        -73.986862   \n",
       "2  2011-10-08 11:53:44.0000002 2011-10-08 11:53:44        -73.982524   \n",
       "3  2012-12-01 21:12:12.0000002 2012-12-01 21:12:12        -73.981160   \n",
       "4  2012-12-01 21:12:12.0000003 2012-12-01 21:12:12        -73.966046   \n",
       "\n",
       "   pickup_latitude  dropoff_longitude  dropoff_latitude  passenger_count  \\\n",
       "0        40.763805         -73.981430         40.743835                1   \n",
       "1        40.719383         -73.998886         40.739201                1   \n",
       "2        40.751260         -73.979654         40.746139                1   \n",
       "3        40.767807         -73.990448         40.751635                1   \n",
       "4        40.789775         -73.988565         40.744427                1   \n",
       "\n",
       "       dist  dayofweek  hour  month  year   jfk_dist   ewr_dist   lga_dist  \n",
       "0  2.323260          1    13      1  2015  20.630787  16.776178   8.611599  \n",
       "1  2.425353          1    13      1  2015  19.647702  15.217920  11.446400  \n",
       "2  0.618628          5    11     10  2011  20.652459  16.988793   9.656367  \n",
       "3  1.961033          5    21     12  2012  21.747868  16.391035   9.200895  \n",
       "4  5.387301          5    21     12  2012  21.167442  16.235246   7.989082  "
      ]
     },
     "execution_count": 124,
     "metadata": {},
     "output_type": "execute_result"
    }
   ],
   "source": [
    "# No missing values\n",
    "test_df = read_csv('test.csv', parse_dates=[\"pickup_datetime\"],\n",
    "                  infer_datetime_format=True)\n",
    "\n",
    "test_df['dist'] = distance(test_df['pickup_latitude'], test_df['pickup_longitude'],\n",
    "                           test_df['dropoff_latitude'], test_df['dropoff_longitude'])\n",
    "\n",
    "print('Minimum ride distance: %.1f' % test_df['dist'].min())\n",
    "print('Maximum ride distance: %.1f' % test_df['dist'].max())\n",
    "\n",
    "test_df['dayofweek'] = test_df['pickup_datetime'].dt.dayofweek #.astype('uint8')\n",
    "test_df['hour'] = test_df['pickup_datetime'].dt.hour #.astype('uint8')\n",
    "test_df['month'] = test_df['pickup_datetime'].dt.month #.astype('uint8')\n",
    "test_df['year'] = test_df['pickup_datetime'].dt.year #.astype('uint8')\n",
    "\n",
    "# Add minimum distances to the airports\n",
    "add_airport_dist(test_df)\n",
    "\n",
    "#test_df = test_df.drop(['passenger_count'], axis=1)\n",
    "test_df.head()"
   ]
  },
  {
   "cell_type": "code",
   "execution_count": 125,
   "metadata": {},
   "outputs": [],
   "source": [
    "X_testF = test_df.iloc[:,2:].values\n",
    "y_predFP1 = 10**(modelP1.predict(X_testF).round(4))\n",
    "y_predFP2 = 10**(modelP2.predict(X_testF).round(4))"
   ]
  },
  {
   "cell_type": "code",
   "execution_count": 126,
   "metadata": {},
   "outputs": [
    {
     "data": {
      "image/png": "[encoded data removed]",
      "text/plain": [
       "<Figure size 432x288 with 1 Axes>"
      ]
     },
     "metadata": {},
     "output_type": "display_data"
    }
   ],
   "source": [
    "import matplotlib.pyplot as plt\n",
    "%matplotlib inline\n",
    "\n",
    "plt.scatter(y_predFP1, y_predFP2)\n",
    "plt.xlabel('y_pred P1')\n",
    "plt.ylabel('y_pred P2')\n",
    "plt.xlim(0,150)\n",
    "plt.ylim(0,150)\n",
    "plt.show()"
   ]
  },
  {
   "cell_type": "code",
   "execution_count": 127,
   "metadata": {},
   "outputs": [
    {
     "data": {
      "text/html": [
       "<div>\n",
       "<style scoped>\n",
       "    .dataframe tbody tr th:only-of-type {\n",
       "        vertical-align: middle;\n",
       "    }\n",
       "\n",
       "    .dataframe tbody tr th {\n",
       "        vertical-align: top;\n",
       "    }\n",
       "\n",
       "    .dataframe thead th {\n",
       "        text-align: right;\n",
       "    }\n",
       "</style>\n",
       "<table border=\"1\" class=\"dataframe\">\n",
       "  <thead>\n",
       "    <tr style=\"text-align: right;\">\n",
       "      <th></th>\n",
       "      <th>key</th>\n",
       "      <th>fare_amount</th>\n",
       "    </tr>\n",
       "  </thead>\n",
       "  <tbody>\n",
       "    <tr>\n",
       "      <th>0</th>\n",
       "      <td>2015-01-27 13:08:24.0000002</td>\n",
       "      <td>10.275431</td>\n",
       "    </tr>\n",
       "    <tr>\n",
       "      <th>1</th>\n",
       "      <td>2015-01-27 13:08:24.0000003</td>\n",
       "      <td>10.113465</td>\n",
       "    </tr>\n",
       "    <tr>\n",
       "      <th>2</th>\n",
       "      <td>2011-10-08 11:53:44.0000002</td>\n",
       "      <td>4.109604</td>\n",
       "    </tr>\n",
       "    <tr>\n",
       "      <th>3</th>\n",
       "      <td>2012-12-01 21:12:12.0000002</td>\n",
       "      <td>9.351903</td>\n",
       "    </tr>\n",
       "    <tr>\n",
       "      <th>4</th>\n",
       "      <td>2012-12-01 21:12:12.0000003</td>\n",
       "      <td>15.513152</td>\n",
       "    </tr>\n",
       "  </tbody>\n",
       "</table>\n",
       "</div>"
      ],
      "text/plain": [
       "                           key  fare_amount\n",
       "0  2015-01-27 13:08:24.0000002    10.275431\n",
       "1  2015-01-27 13:08:24.0000003    10.113465\n",
       "2  2011-10-08 11:53:44.0000002     4.109604\n",
       "3  2012-12-01 21:12:12.0000002     9.351903\n",
       "4  2012-12-01 21:12:12.0000003    15.513152"
      ]
     },
     "execution_count": 127,
     "metadata": {},
     "output_type": "execute_result"
    }
   ],
   "source": [
    "from pandas import DataFrame\n",
    "\n",
    "submission = DataFrame({'key': test_df.key, 'fare_amountP1': y_predFP1,\n",
    "                        'fare_amountP2': y_predFP2},\n",
    "                       columns = ['key', 'fare_amountP1', 'fare_amountP2'])\n",
    "\n",
    "submission['fare_amount'] = np.where(test_df['pickup_datetime'] < '2012-09-01',\n",
    "                                     submission['fare_amountP1'],\n",
    "                                     submission['fare_amountP2'])\n",
    "\n",
    "submission = submission.drop(['fare_amountP1','fare_amountP2'], axis=1)\n",
    "submission.to_csv('submission.csv', index = False)\n",
    "submission.head()"
   ]
  },
  {
   "cell_type": "markdown",
   "metadata": {},
   "source": [
    "## Submissions"
   ]
  },
  {
   "cell_type": "code",
   "execution_count": null,
   "metadata": {},
   "outputs": [],
   "source": [
    "from pandas import read_csv"
   ]
  },
  {
   "cell_type": "code",
   "execution_count": null,
   "metadata": {},
   "outputs": [],
   "source": [
    "import os\n",
    "import glob\n",
    "\n",
    "for filepath in glob.glob(os.path.join('/Users/vbordalo/DataScience/Kaggle/TaxiNYC', 'submission*.csv')):\n",
    "    with open(filepath) as f:\n",
    "        content = f.read()"
   ]
  },
  {
   "cell_type": "code",
   "execution_count": null,
   "metadata": {},
   "outputs": [],
   "source": [
    "sub1 = read_csv('submission1.csv')\n",
    "sub2 = read_csv('submission2.csv')\n",
    "sub3 = read_csv('submission3.csv')\n",
    "sub4 = read_csv('submission4.csv')\n",
    "sub5 = read_csv('submission5.csv')\n",
    "sub6 = read_csv('submission6.csv')\n",
    "sub7 = read_csv('submission7.csv')\n",
    "sub8 = read_csv('submission8.csv')\n",
    "sub9 = read_csv('submission9.csv')\n",
    "sub10 = read_csv('submission10.csv')\n",
    "sub11 = read_csv('submission11.csv')"
   ]
  },
  {
   "cell_type": "code",
   "execution_count": null,
   "metadata": {},
   "outputs": [],
   "source": [
    "rmse = [3.84524,\n",
    "       3.64728,\n",
    "       3.60249,\n",
    "       3.46635,\n",
    "       3.44016,\n",
    "       3.43703,\n",
    "       3.33139,\n",
    "       3.27094,\n",
    "       3.25232,\n",
    "       3.21054,\n",
    "       3.20225]"
   ]
  },
  {
   "cell_type": "code",
   "execution_count": null,
   "metadata": {},
   "outputs": [],
   "source": [
    "dic = {'means':[sub1.fare_amount.mean(),\n",
    "               sub2.fare_amount.mean(),\n",
    "               sub3.fare_amount.mean(),\n",
    "               sub4.fare_amount.mean(),\n",
    "               sub5.fare_amount.mean(),\n",
    "               sub6.fare_amount.mean(),\n",
    "               sub7.fare_amount.mean(),\n",
    "               sub8.fare_amount.mean(),\n",
    "               sub9.fare_amount.mean(),\n",
    "               sub10.fare_amount.mean(),\n",
    "                sub11.fare_amount.mean()\n",
    "              ],\n",
    "      'stds':[sub1.fare_amount.std(),\n",
    "             sub2.fare_amount.std(),\n",
    "             sub3.fare_amount.std(),\n",
    "             sub4.fare_amount.std(),\n",
    "             sub5.fare_amount.std(),\n",
    "             sub6.fare_amount.std(),\n",
    "             sub7.fare_amount.std(),\n",
    "             sub8.fare_amount.std(),\n",
    "             sub9.fare_amount.std(),\n",
    "             sub10.fare_amount.std(),\n",
    "              sub11.fare_amount.std()\n",
    "            ],\n",
    "      'skews':[sub1.fare_amount.skew(),\n",
    "              sub2.fare_amount.skew(),\n",
    "              sub3.fare_amount.skew(),\n",
    "              sub4.fare_amount.skew(),\n",
    "              sub5.fare_amount.skew(),\n",
    "              sub6.fare_amount.skew(),\n",
    "              sub7.fare_amount.skew(),\n",
    "              sub8.fare_amount.skew(),\n",
    "              sub9.fare_amount.skew(),\n",
    "              sub10.fare_amount.skew(),\n",
    "               sub11.fare_amount.skew()\n",
    "             ],\n",
    "      'kurts':[sub1.fare_amount.kurt(),\n",
    "              sub2.fare_amount.kurt(),\n",
    "              sub3.fare_amount.kurt(),\n",
    "              sub4.fare_amount.kurt(),\n",
    "              sub5.fare_amount.kurt(),\n",
    "              sub6.fare_amount.kurt(),\n",
    "              sub7.fare_amount.kurt(),\n",
    "              sub8.fare_amount.kurt(),\n",
    "              sub9.fare_amount.kurt(),\n",
    "              sub10.fare_amount.kurt(),\n",
    "               sub11.fare_amount.kurt()\n",
    "             ],\n",
    "      'rmse':rmse\n",
    "      }"
   ]
  },
  {
   "cell_type": "code",
   "execution_count": null,
   "metadata": {},
   "outputs": [],
   "source": [
    "from pandas import DataFrame\n",
    "df = DataFrame(dic)"
   ]
  },
  {
   "cell_type": "code",
   "execution_count": null,
   "metadata": {},
   "outputs": [],
   "source": [
    "df"
   ]
  },
  {
   "cell_type": "code",
   "execution_count": null,
   "metadata": {},
   "outputs": [],
   "source": [
    "import matplotlib.pyplot as plt\n",
    "%matplotlib inline\n",
    "plt.scatter(df.rmse,df.means)\n",
    "plt.xlim(2.6,4)\n",
    "plt.show()\n",
    "plt.scatter(df.rmse,df.stds)\n",
    "plt.xlim(2.6,4)\n",
    "plt.show()\n",
    "plt.scatter(df.rmse,df.skews)\n",
    "plt.xlim(2.6,4)\n",
    "plt.show()\n",
    "plt.scatter(df.rmse,df.kurts)\n",
    "plt.xlim(2.6,4)\n",
    "plt.show()"
   ]
  },
  {
   "cell_type": "code",
   "execution_count": null,
   "metadata": {},
   "outputs": [],
   "source": []
  }
 ],
 "metadata": {
  "kernelspec": {
   "display_name": "Python 3",
   "language": "python",
   "name": "python3"
  },
  "language_info": {
   "codemirror_mode": {
    "name": "ipython",
    "version": 3
   },
   "file_extension": ".py",
   "mimetype": "text/x-python",
   "name": "python",
   "nbconvert_exporter": "python",
   "pygments_lexer": "ipython3",
   "version": "3.6.6"
  }
 },
 "nbformat": 4,
 "nbformat_minor": 2
}
