{
 "cells": [
  {
   "cell_type": "code",
   "execution_count": 1,
   "metadata": {},
   "outputs": [],
   "source": [
    "from sklearn.neighbors import NearestNeighbors\n",
    "import numpy as np\n",
    "from pandas import read_csv"
   ]
  },
  {
   "cell_type": "code",
   "execution_count": 8,
   "metadata": {},
   "outputs": [],
   "source": [
    "def transform_train(train_df):\n",
    "    \n",
    "    # Remove missing values\n",
    "    train_df = train_df.dropna(how = 'any', axis = 'rows')\n",
    "    \n",
    "    # Remove key column\n",
    "    #train_df = train_df.drop(['key'], axis=1)\n",
    "    \n",
    "    # Remove absurd passenger_count\n",
    "    #train_df = train_df[(train_df['passenger_count'] >= 1) &\n",
    "    #                (train_df['passenger_count'] <= 6)]\n",
    "\n",
    "    # Remove passenger_count column\n",
    "    #train_df = train_df.drop(['passenger_count'], axis=1)\n",
    "\n",
    "    # Remove negative and extreme fare_amount values\n",
    "    train_df = train_df[(train_df['fare_amount'] >= 2.5) & (train_df['fare_amount'] <= 300)]\n",
    "    print('Maximum fare_amount: %.1f' % train_df['fare_amount'].max())\n",
    "\n",
    "    # Remove no displacements\n",
    "    #train_df = train_df[(train_df['pickup_latitude'] != train_df['dropoff_latitude'])]\n",
    "    #train_df = train_df[(train_df['pickup_longitude'] != train_df['dropoff_longitude'])]\n",
    "\n",
    "    # Remove absurd displacements\n",
    "    # A fixed value of 0.01 was added to the extreme coordinates in the test set\n",
    "    # to permit finding neighbors within a radius < 0.01 around\n",
    "    # pickup and dropoff locations\n",
    "    train_df = train_df[(train_df['pickup_longitude'] >= lng1min+0.01) &\n",
    "                        (train_df['pickup_longitude'] <= lng1max+0.01)]\n",
    "    train_df = train_df[(train_df['dropoff_longitude'] >= lng2min+0.01) &\n",
    "                        (train_df['dropoff_longitude'] <= lng2max+0.01)]\n",
    "    train_df = train_df[(train_df['pickup_latitude'] >= lat1min+0.01) &\n",
    "                        (train_df['pickup_latitude'] <= lat1max+0.01)]\n",
    "    train_df = train_df[(train_df['dropoff_latitude'] >= lat2min+0.01) &\n",
    "                        (train_df['dropoff_latitude'] <= lat2max+0.01)]\n",
    "\n",
    "    # Create new features - dayofweek,hour,month,year\n",
    "    train_df['dayofweek'] = train_df['pickup_datetime'].dt.dayofweek.astype('uint8')\n",
    "    train_df['weekend'] = np.where(train_df.dayofweek < 5,0,1).astype('uint8')\n",
    "    train_df['hour'] = train_df['pickup_datetime'].dt.hour.astype('uint8')\n",
    "    train_df = train_df.drop(['dayofweek'], axis=1)\n",
    "    #bins = IntervalIndex.from_tuples([(0, 6),\n",
    "    #                                 (6, 12),\n",
    "    #                                 (12, 16),\n",
    "    #                                 (16,24)], closed='left')\n",
    "    #train_df['h_class'] = cut(train_df['hour'], bins, labels=False)\n",
    "    #train_df['h_class'] = np.where((train_df['hour'] >= 0) & (train_df['hour'] <= 6),1,0).astype('uint8')\n",
    "    #train_df['h_class'] = np.where((train_df['hour'] >= 6) & (train_df['hour'] <= 12),2,train_df['h_class'])\n",
    "    #train_df['h_class'] = np.where((train_df['hour'] >= 12) & (train_df['hour'] <= 16),3,train_df['h_class'])\n",
    "    #train_df['h_class'] = np.where((train_df['hour'] >= 16) & (train_df['hour'] <= 20),4,train_df['h_class'])\n",
    "    #train_df['h_class'] = np.where((train_df['hour'] >= 20) & (train_df['hour'] < 24),5,train_df['h_class'])\n",
    "    #train_df['day'] = train_df['pickup_datetime'].dt.day.astype('uint8')\n",
    "    #train_df['month'] = train_df['pickup_datetime'].dt.month.astype('uint8')\n",
    "    #train_df['year'] = train_df['pickup_datetime'].dt.year.astype('uint16')\n",
    "\n",
    "    # Create features for special rates\n",
    "    train_df['eightpmto6am'] = np.where((train_df['hour'] >= 6) &\n",
    "                                    (train_df['hour'] < 20),0,1).astype('uint8')\n",
    "    #train_df['holiday'] = \n",
    "    train_df['rushhour'] = np.where((train_df['hour'] >= 16) &\n",
    "                                    (train_df['hour'] < 20) &\n",
    "                                    (train_df['weekend'] == 0),1,0).astype('uint8')\n",
    "    train_df = train_df.drop(['hour','weekend'], axis=1)\n",
    "\n",
    "    # Create dataframes for the two periods\n",
    "    train_df['period'] = np.where(train_df['pickup_datetime'] < '2012-09-01',0,1).astype('uint8')\n",
    "    \n",
    "    # Save memory\n",
    "    train_df = train_df.drop(['pickup_datetime'], axis=1)\n",
    "    print(train_df.shape)\n",
    "    return train_df"
   ]
  },
  {
   "cell_type": "code",
   "execution_count": 9,
   "metadata": {},
   "outputs": [],
   "source": [
    "test_df = read_csv('test.csv', parse_dates=['pickup_datetime'], infer_datetime_format=True)"
   ]
  },
  {
   "cell_type": "code",
   "execution_count": 10,
   "metadata": {},
   "outputs": [],
   "source": [
    "lng1min = test_df.pickup_longitude.min()\n",
    "lng2min = test_df.dropoff_longitude.min()\n",
    "lat1min = test_df.pickup_latitude.min()\n",
    "lat2min = test_df.dropoff_latitude.min()\n",
    "#\n",
    "lng1max = test_df.pickup_longitude.max()\n",
    "lng2max = test_df.dropoff_longitude.max()\n",
    "lat1max = test_df.pickup_latitude.max()\n",
    "lat2max = test_df.dropoff_latitude.max()"
   ]
  },
  {
   "cell_type": "markdown",
   "metadata": {},
   "source": [
    "# Model - Train100K (positions and period)"
   ]
  },
  {
   "cell_type": "code",
   "execution_count": 23,
   "metadata": {},
   "outputs": [
    {
     "name": "stdout",
     "output_type": "stream",
     "text": [
      "(100000, 6)\n"
     ]
    }
   ],
   "source": [
    "types = {'fare_amount': 'float32',\n",
    "         'pickup_longitude': 'float32',\n",
    "         'pickup_latitude': 'float32',\n",
    "         'dropoff_longitude': 'float32',\n",
    "         'dropoff_latitude': 'float32'}\n",
    "\n",
    "cols = ['fare_amount', 'pickup_datetime',\n",
    "        'pickup_longitude', 'pickup_latitude',\n",
    "        'dropoff_longitude', 'dropoff_latitude']\n",
    "\n",
    "train_df = read_csv('train100K.csv', parse_dates=['pickup_datetime'], infer_datetime_format=True,\n",
    "                   dtype = types, usecols=cols)\n",
    "\n",
    "print(train_df.shape)"
   ]
  },
  {
   "cell_type": "code",
   "execution_count": 24,
   "metadata": {},
   "outputs": [
    {
     "name": "stdout",
     "output_type": "stream",
     "text": [
      "Maximum fare_amount: 250.0\n",
      "(97843, 6)\n"
     ]
    },
    {
     "data": {
      "text/html": [
       "<div>\n",
       "<style scoped>\n",
       "    .dataframe tbody tr th:only-of-type {\n",
       "        vertical-align: middle;\n",
       "    }\n",
       "\n",
       "    .dataframe tbody tr th {\n",
       "        vertical-align: top;\n",
       "    }\n",
       "\n",
       "    .dataframe thead th {\n",
       "        text-align: right;\n",
       "    }\n",
       "</style>\n",
       "<table border=\"1\" class=\"dataframe\">\n",
       "  <thead>\n",
       "    <tr style=\"text-align: right;\">\n",
       "      <th></th>\n",
       "      <th>fare_amount</th>\n",
       "      <th>pickup_longitude</th>\n",
       "      <th>pickup_latitude</th>\n",
       "      <th>dropoff_longitude</th>\n",
       "      <th>dropoff_latitude</th>\n",
       "      <th>period</th>\n",
       "    </tr>\n",
       "  </thead>\n",
       "  <tbody>\n",
       "    <tr>\n",
       "      <th>0</th>\n",
       "      <td>10.5</td>\n",
       "      <td>-73.978989</td>\n",
       "      <td>40.761620</td>\n",
       "      <td>-73.963959</td>\n",
       "      <td>40.770561</td>\n",
       "      <td>1</td>\n",
       "    </tr>\n",
       "    <tr>\n",
       "      <th>1</th>\n",
       "      <td>7.5</td>\n",
       "      <td>-73.980347</td>\n",
       "      <td>40.763069</td>\n",
       "      <td>-73.988686</td>\n",
       "      <td>40.753979</td>\n",
       "      <td>1</td>\n",
       "    </tr>\n",
       "    <tr>\n",
       "      <th>2</th>\n",
       "      <td>4.5</td>\n",
       "      <td>-74.002281</td>\n",
       "      <td>40.726578</td>\n",
       "      <td>-74.009583</td>\n",
       "      <td>40.723598</td>\n",
       "      <td>0</td>\n",
       "    </tr>\n",
       "    <tr>\n",
       "      <th>3</th>\n",
       "      <td>14.5</td>\n",
       "      <td>-73.932800</td>\n",
       "      <td>40.758900</td>\n",
       "      <td>-73.995003</td>\n",
       "      <td>40.736599</td>\n",
       "      <td>0</td>\n",
       "    </tr>\n",
       "    <tr>\n",
       "      <th>4</th>\n",
       "      <td>13.0</td>\n",
       "      <td>-73.975418</td>\n",
       "      <td>40.761070</td>\n",
       "      <td>-73.998444</td>\n",
       "      <td>40.724892</td>\n",
       "      <td>1</td>\n",
       "    </tr>\n",
       "  </tbody>\n",
       "</table>\n",
       "</div>"
      ],
      "text/plain": [
       "   fare_amount  pickup_longitude  pickup_latitude  dropoff_longitude  \\\n",
       "0         10.5        -73.978989        40.761620         -73.963959   \n",
       "1          7.5        -73.980347        40.763069         -73.988686   \n",
       "2          4.5        -74.002281        40.726578         -74.009583   \n",
       "3         14.5        -73.932800        40.758900         -73.995003   \n",
       "4         13.0        -73.975418        40.761070         -73.998444   \n",
       "\n",
       "   dropoff_latitude  period  \n",
       "0         40.770561       1  \n",
       "1         40.753979       1  \n",
       "2         40.723598       0  \n",
       "3         40.736599       0  \n",
       "4         40.724892       1  "
      ]
     },
     "execution_count": 24,
     "metadata": {},
     "output_type": "execute_result"
    }
   ],
   "source": [
    "train_df = transform_train(train_df)\n",
    "train_df.head()"
   ]
  },
  {
   "cell_type": "code",
   "execution_count": 25,
   "metadata": {},
   "outputs": [
    {
     "data": {
      "text/plain": [
       "(9785, 5)"
      ]
     },
     "execution_count": 25,
     "metadata": {},
     "output_type": "execute_result"
    }
   ],
   "source": [
    "from sklearn.model_selection import train_test_split\n",
    "\n",
    "X = train_df.iloc[:,1:].values\n",
    "y = train_df.iloc[:,0].values\n",
    "\n",
    "seed = 101\n",
    "\n",
    "X_train, X_test, y_train, y_test = train_test_split(X, y,\n",
    "                                                   test_size=0.1, random_state=seed)\n",
    "X_test.shape"
   ]
  },
  {
   "cell_type": "code",
   "execution_count": 26,
   "metadata": {},
   "outputs": [],
   "source": [
    "from sklearn.preprocessing import StandardScaler\n",
    "\n",
    "sc = StandardScaler()\n",
    "X_train = sc.fit_transform(X_train)\n",
    "X_test = sc.transform(X_test)"
   ]
  },
  {
   "cell_type": "code",
   "execution_count": 54,
   "metadata": {},
   "outputs": [
    {
     "name": "stdout",
     "output_type": "stream",
     "text": [
      "CPU times: user 763 ms, sys: 395 ms, total: 1.16 s\n",
      "Wall time: 316 ms\n"
     ]
    }
   ],
   "source": [
    "%%time\n",
    "from sklearn.neighbors import KNeighborsRegressor\n",
    "\n",
    "neigh = KNeighborsRegressor(n_neighbors=15, n_jobs=4)\n",
    "neigh.fit(X_train, y_train)\n",
    "y_pred = neigh.predict(X_test)"
   ]
  },
  {
   "cell_type": "code",
   "execution_count": 55,
   "metadata": {},
   "outputs": [
    {
     "data": {
      "image/png": "[encoded data removed]",
      "text/plain": [
       "<Figure size 432x288 with 1 Axes>"
      ]
     },
     "metadata": {},
     "output_type": "display_data"
    }
   ],
   "source": [
    "import matplotlib.pyplot as plt\n",
    "%matplotlib inline\n",
    "\n",
    "plt.scatter(y_pred, y_test)\n",
    "plt.xlabel('y_pred')\n",
    "plt.ylabel('y_test')\n",
    "plt.xlim(0,150)\n",
    "plt.ylim(0,150)\n",
    "plt.show()"
   ]
  },
  {
   "cell_type": "code",
   "execution_count": 56,
   "metadata": {},
   "outputs": [
    {
     "name": "stdout",
     "output_type": "stream",
     "text": [
      "RMSE KNN: 3.96266\n"
     ]
    }
   ],
   "source": [
    "from sklearn.metrics import mean_squared_error\n",
    "print('RMSE KNN: %.5f' % np.sqrt(mean_squared_error(y_pred,y_test)))"
   ]
  },
  {
   "cell_type": "markdown",
   "metadata": {},
   "source": [
    "# Model - Train1M (positions and period)"
   ]
  },
  {
   "cell_type": "code",
   "execution_count": 11,
   "metadata": {},
   "outputs": [
    {
     "name": "stdout",
     "output_type": "stream",
     "text": [
      "(1000000, 6)\n"
     ]
    }
   ],
   "source": [
    "types = {'fare_amount': 'float32',\n",
    "         'pickup_longitude': 'float32',\n",
    "         'pickup_latitude': 'float32',\n",
    "         'dropoff_longitude': 'float32',\n",
    "         'dropoff_latitude': 'float32'}\n",
    "\n",
    "cols = ['fare_amount', 'pickup_datetime',\n",
    "        'pickup_longitude', 'pickup_latitude',\n",
    "        'dropoff_longitude', 'dropoff_latitude']\n",
    "\n",
    "train_df = read_csv('train1M.csv', parse_dates=['pickup_datetime'], infer_datetime_format=True,\n",
    "                   dtype = types, usecols=cols)\n",
    "\n",
    "print(train_df.shape)"
   ]
  },
  {
   "cell_type": "code",
   "execution_count": 12,
   "metadata": {},
   "outputs": [
    {
     "name": "stdout",
     "output_type": "stream",
     "text": [
      "Maximum fare_amount: 300.0\n",
      "(978252, 8)\n"
     ]
    },
    {
     "data": {
      "text/html": [
       "<div>\n",
       "<style scoped>\n",
       "    .dataframe tbody tr th:only-of-type {\n",
       "        vertical-align: middle;\n",
       "    }\n",
       "\n",
       "    .dataframe tbody tr th {\n",
       "        vertical-align: top;\n",
       "    }\n",
       "\n",
       "    .dataframe thead th {\n",
       "        text-align: right;\n",
       "    }\n",
       "</style>\n",
       "<table border=\"1\" class=\"dataframe\">\n",
       "  <thead>\n",
       "    <tr style=\"text-align: right;\">\n",
       "      <th></th>\n",
       "      <th>fare_amount</th>\n",
       "      <th>pickup_longitude</th>\n",
       "      <th>pickup_latitude</th>\n",
       "      <th>dropoff_longitude</th>\n",
       "      <th>dropoff_latitude</th>\n",
       "      <th>eightpmto6am</th>\n",
       "      <th>rushhour</th>\n",
       "      <th>period</th>\n",
       "    </tr>\n",
       "  </thead>\n",
       "  <tbody>\n",
       "    <tr>\n",
       "      <th>0</th>\n",
       "      <td>11.7</td>\n",
       "      <td>-73.998199</td>\n",
       "      <td>40.730412</td>\n",
       "      <td>-73.980789</td>\n",
       "      <td>40.767326</td>\n",
       "      <td>0</td>\n",
       "      <td>0</td>\n",
       "      <td>0</td>\n",
       "    </tr>\n",
       "    <tr>\n",
       "      <th>1</th>\n",
       "      <td>11.5</td>\n",
       "      <td>-73.960541</td>\n",
       "      <td>40.775360</td>\n",
       "      <td>-73.959793</td>\n",
       "      <td>40.775429</td>\n",
       "      <td>0</td>\n",
       "      <td>0</td>\n",
       "      <td>1</td>\n",
       "    </tr>\n",
       "    <tr>\n",
       "      <th>2</th>\n",
       "      <td>12.1</td>\n",
       "      <td>-73.984703</td>\n",
       "      <td>40.742599</td>\n",
       "      <td>-73.944702</td>\n",
       "      <td>40.780399</td>\n",
       "      <td>0</td>\n",
       "      <td>0</td>\n",
       "      <td>0</td>\n",
       "    </tr>\n",
       "    <tr>\n",
       "      <th>3</th>\n",
       "      <td>4.5</td>\n",
       "      <td>-73.986992</td>\n",
       "      <td>40.751293</td>\n",
       "      <td>-73.980659</td>\n",
       "      <td>40.758965</td>\n",
       "      <td>0</td>\n",
       "      <td>0</td>\n",
       "      <td>0</td>\n",
       "    </tr>\n",
       "    <tr>\n",
       "      <th>4</th>\n",
       "      <td>4.5</td>\n",
       "      <td>-73.953796</td>\n",
       "      <td>40.771084</td>\n",
       "      <td>-73.947227</td>\n",
       "      <td>40.775784</td>\n",
       "      <td>1</td>\n",
       "      <td>0</td>\n",
       "      <td>0</td>\n",
       "    </tr>\n",
       "  </tbody>\n",
       "</table>\n",
       "</div>"
      ],
      "text/plain": [
       "   fare_amount  pickup_longitude  pickup_latitude  dropoff_longitude  \\\n",
       "0         11.7        -73.998199        40.730412         -73.980789   \n",
       "1         11.5        -73.960541        40.775360         -73.959793   \n",
       "2         12.1        -73.984703        40.742599         -73.944702   \n",
       "3          4.5        -73.986992        40.751293         -73.980659   \n",
       "4          4.5        -73.953796        40.771084         -73.947227   \n",
       "\n",
       "   dropoff_latitude  eightpmto6am  rushhour  period  \n",
       "0         40.767326             0         0       0  \n",
       "1         40.775429             0         0       1  \n",
       "2         40.780399             0         0       0  \n",
       "3         40.758965             0         0       0  \n",
       "4         40.775784             1         0       0  "
      ]
     },
     "execution_count": 12,
     "metadata": {},
     "output_type": "execute_result"
    }
   ],
   "source": [
    "train_df = transform_train(train_df)\n",
    "train_df.head()"
   ]
  },
  {
   "cell_type": "code",
   "execution_count": 13,
   "metadata": {},
   "outputs": [
    {
     "data": {
      "text/plain": [
       "(9783, 7)"
      ]
     },
     "execution_count": 13,
     "metadata": {},
     "output_type": "execute_result"
    }
   ],
   "source": [
    "from sklearn.model_selection import train_test_split\n",
    "\n",
    "X = train_df.iloc[:,1:].values\n",
    "y = train_df.iloc[:,0].values\n",
    "\n",
    "seed = 101\n",
    "\n",
    "X_train, X_test, y_train, y_test = train_test_split(X, y,\n",
    "                                                   test_size=0.01, random_state=seed)\n",
    "X_test.shape"
   ]
  },
  {
   "cell_type": "code",
   "execution_count": 14,
   "metadata": {},
   "outputs": [],
   "source": [
    "from sklearn.preprocessing import StandardScaler\n",
    "\n",
    "sc = StandardScaler()\n",
    "X_train = sc.fit_transform(X_train)\n",
    "X_test = sc.transform(X_test)"
   ]
  },
  {
   "cell_type": "markdown",
   "metadata": {},
   "source": [
    "## KNN"
   ]
  },
  {
   "cell_type": "code",
   "execution_count": 15,
   "metadata": {},
   "outputs": [
    {
     "name": "stdout",
     "output_type": "stream",
     "text": [
      "CPU times: user 30min 12s, sys: 16.5 s, total: 30min 28s\n",
      "Wall time: 30min 23s\n"
     ]
    }
   ],
   "source": [
    "%%time\n",
    "from sklearn.neighbors import KNeighborsRegressor\n",
    "\n",
    "neigh = KNeighborsRegressor(n_neighbors=5, n_jobs=4)\n",
    "neigh.fit(X_train, y_train)\n",
    "y_pred = neigh.predict(X_test)"
   ]
  },
  {
   "cell_type": "code",
   "execution_count": 17,
   "metadata": {},
   "outputs": [
    {
     "data": {
      "image/png": "[encoded data removed]",
      "text/plain": [
       "<Figure size 432x288 with 1 Axes>"
      ]
     },
     "metadata": {},
     "output_type": "display_data"
    },
    {
     "name": "stdout",
     "output_type": "stream",
     "text": [
      "RMSE KNN: 3.66800\n"
     ]
    }
   ],
   "source": [
    "import matplotlib.pyplot as plt\n",
    "%matplotlib inline\n",
    "\n",
    "plt.scatter(y_pred, y_test)\n",
    "plt.xlabel('y_pred')\n",
    "plt.ylabel('y_test')\n",
    "plt.xlim(0,150)\n",
    "plt.ylim(0,150)\n",
    "plt.show()\n",
    "\n",
    "from sklearn.metrics import mean_squared_error\n",
    "print('RMSE KNN: %.5f' % np.sqrt(mean_squared_error(y_pred,y_test)))"
   ]
  },
  {
   "cell_type": "markdown",
   "metadata": {},
   "source": [
    "# Model - Train2M (positions and period)"
   ]
  },
  {
   "cell_type": "code",
   "execution_count": 64,
   "metadata": {},
   "outputs": [
    {
     "name": "stdout",
     "output_type": "stream",
     "text": [
      "(2000000, 6)\n"
     ]
    }
   ],
   "source": [
    "types = {'fare_amount': 'float32',\n",
    "         'pickup_longitude': 'float32',\n",
    "         'pickup_latitude': 'float32',\n",
    "         'dropoff_longitude': 'float32',\n",
    "         'dropoff_latitude': 'float32'}\n",
    "\n",
    "cols = ['fare_amount', 'pickup_datetime',\n",
    "        'pickup_longitude', 'pickup_latitude',\n",
    "        'dropoff_longitude', 'dropoff_latitude']\n",
    "\n",
    "train_df = read_csv('train1.csv', parse_dates=['pickup_datetime'], infer_datetime_format=True,\n",
    "                   dtype = types, usecols=cols)\n",
    "\n",
    "print(train_df.shape)"
   ]
  },
  {
   "cell_type": "code",
   "execution_count": 65,
   "metadata": {},
   "outputs": [
    {
     "name": "stdout",
     "output_type": "stream",
     "text": [
      "Maximum fare_amount: 300.0\n",
      "(1956532, 6)\n"
     ]
    },
    {
     "data": {
      "text/html": [
       "<div>\n",
       "<style scoped>\n",
       "    .dataframe tbody tr th:only-of-type {\n",
       "        vertical-align: middle;\n",
       "    }\n",
       "\n",
       "    .dataframe tbody tr th {\n",
       "        vertical-align: top;\n",
       "    }\n",
       "\n",
       "    .dataframe thead th {\n",
       "        text-align: right;\n",
       "    }\n",
       "</style>\n",
       "<table border=\"1\" class=\"dataframe\">\n",
       "  <thead>\n",
       "    <tr style=\"text-align: right;\">\n",
       "      <th></th>\n",
       "      <th>fare_amount</th>\n",
       "      <th>pickup_longitude</th>\n",
       "      <th>pickup_latitude</th>\n",
       "      <th>dropoff_longitude</th>\n",
       "      <th>dropoff_latitude</th>\n",
       "      <th>period</th>\n",
       "    </tr>\n",
       "  </thead>\n",
       "  <tbody>\n",
       "    <tr>\n",
       "      <th>0</th>\n",
       "      <td>34.669998</td>\n",
       "      <td>-73.870819</td>\n",
       "      <td>40.773991</td>\n",
       "      <td>-73.999054</td>\n",
       "      <td>40.760658</td>\n",
       "      <td>0</td>\n",
       "    </tr>\n",
       "    <tr>\n",
       "      <th>1</th>\n",
       "      <td>4.000000</td>\n",
       "      <td>-74.004051</td>\n",
       "      <td>40.752945</td>\n",
       "      <td>-74.001144</td>\n",
       "      <td>40.746910</td>\n",
       "      <td>1</td>\n",
       "    </tr>\n",
       "    <tr>\n",
       "      <th>2</th>\n",
       "      <td>3.300000</td>\n",
       "      <td>-73.980865</td>\n",
       "      <td>40.750500</td>\n",
       "      <td>-73.981079</td>\n",
       "      <td>40.755962</td>\n",
       "      <td>0</td>\n",
       "    </tr>\n",
       "    <tr>\n",
       "      <th>3</th>\n",
       "      <td>7.300000</td>\n",
       "      <td>-73.979965</td>\n",
       "      <td>40.743340</td>\n",
       "      <td>-73.988792</td>\n",
       "      <td>40.759567</td>\n",
       "      <td>0</td>\n",
       "    </tr>\n",
       "    <tr>\n",
       "      <th>4</th>\n",
       "      <td>7.000000</td>\n",
       "      <td>-73.993851</td>\n",
       "      <td>40.720497</td>\n",
       "      <td>-74.007256</td>\n",
       "      <td>40.726669</td>\n",
       "      <td>1</td>\n",
       "    </tr>\n",
       "  </tbody>\n",
       "</table>\n",
       "</div>"
      ],
      "text/plain": [
       "   fare_amount  pickup_longitude  pickup_latitude  dropoff_longitude  \\\n",
       "0    34.669998        -73.870819        40.773991         -73.999054   \n",
       "1     4.000000        -74.004051        40.752945         -74.001144   \n",
       "2     3.300000        -73.980865        40.750500         -73.981079   \n",
       "3     7.300000        -73.979965        40.743340         -73.988792   \n",
       "4     7.000000        -73.993851        40.720497         -74.007256   \n",
       "\n",
       "   dropoff_latitude  period  \n",
       "0         40.760658       0  \n",
       "1         40.746910       1  \n",
       "2         40.755962       0  \n",
       "3         40.759567       0  \n",
       "4         40.726669       1  "
      ]
     },
     "execution_count": 65,
     "metadata": {},
     "output_type": "execute_result"
    }
   ],
   "source": [
    "train_df = transform_train(train_df)\n",
    "train_df.head()"
   ]
  },
  {
   "cell_type": "code",
   "execution_count": 66,
   "metadata": {},
   "outputs": [
    {
     "data": {
      "text/plain": [
       "(9783, 5)"
      ]
     },
     "execution_count": 66,
     "metadata": {},
     "output_type": "execute_result"
    }
   ],
   "source": [
    "from sklearn.model_selection import train_test_split\n",
    "\n",
    "X = train_df.iloc[:,1:].values\n",
    "y = train_df.iloc[:,0].values\n",
    "\n",
    "seed = 101\n",
    "\n",
    "X_train, X_test, y_train, y_test = train_test_split(X, y,\n",
    "                                                   test_size=0.005, random_state=seed)\n",
    "X_test.shape"
   ]
  },
  {
   "cell_type": "code",
   "execution_count": 67,
   "metadata": {},
   "outputs": [],
   "source": [
    "from sklearn.preprocessing import StandardScaler\n",
    "\n",
    "sc = StandardScaler()\n",
    "X_train = sc.fit_transform(X_train)\n",
    "X_test = sc.transform(X_test)"
   ]
  },
  {
   "cell_type": "code",
   "execution_count": 68,
   "metadata": {},
   "outputs": [
    {
     "name": "stdout",
     "output_type": "stream",
     "text": [
      "CPU times: user 1h 22min 15s, sys: 32.1 s, total: 1h 22min 47s\n",
      "Wall time: 1h 22min 19s\n"
     ]
    }
   ],
   "source": [
    "%%time\n",
    "from sklearn.neighbors import KNeighborsRegressor\n",
    "\n",
    "neigh = KNeighborsRegressor(n_neighbors=15, n_jobs=4)\n",
    "neigh.fit(X_train, y_train)\n",
    "y_pred = neigh.predict(X_test)"
   ]
  },
  {
   "cell_type": "code",
   "execution_count": 72,
   "metadata": {},
   "outputs": [
    {
     "data": {
      "image/png": "[encoded data removed]",
      "text/plain": [
       "<Figure size 432x288 with 1 Axes>"
      ]
     },
     "metadata": {},
     "output_type": "display_data"
    },
    {
     "name": "stdout",
     "output_type": "stream",
     "text": [
      "RMSE KNN: 3.90938\n"
     ]
    }
   ],
   "source": [
    "import matplotlib.pyplot as plt\n",
    "%matplotlib inline\n",
    "\n",
    "plt.scatter(y_pred, y_test)\n",
    "plt.xlabel('y_pred')\n",
    "plt.ylabel('y_test')\n",
    "plt.xlim(0,100)\n",
    "plt.ylim(0,100)\n",
    "plt.show()\n",
    "\n",
    "from sklearn.metrics import mean_squared_error\n",
    "print('RMSE KNN: %.5f' % np.sqrt(mean_squared_error(y_pred,y_test)))"
   ]
  },
  {
   "cell_type": "markdown",
   "metadata": {},
   "source": [
    "# Remove outliers from the training set based on the residuals"
   ]
  },
  {
   "cell_type": "markdown",
   "metadata": {},
   "source": [
    "# Model - Train1M (positions and period)"
   ]
  },
  {
   "cell_type": "code",
   "execution_count": 110,
   "metadata": {},
   "outputs": [
    {
     "name": "stdout",
     "output_type": "stream",
     "text": [
      "(1000000, 6)\n"
     ]
    }
   ],
   "source": [
    "types = {'fare_amount': 'float32',\n",
    "         'pickup_longitude': 'float32',\n",
    "         'pickup_latitude': 'float32',\n",
    "         'dropoff_longitude': 'float32',\n",
    "         'dropoff_latitude': 'float32'}\n",
    "\n",
    "cols = ['fare_amount', 'pickup_datetime',\n",
    "        'pickup_longitude', 'pickup_latitude',\n",
    "        'dropoff_longitude', 'dropoff_latitude']\n",
    "\n",
    "train_df = read_csv('train1M.csv', parse_dates=['pickup_datetime'], infer_datetime_format=True,\n",
    "                   dtype = types, usecols=cols)\n",
    "\n",
    "print(train_df.shape)"
   ]
  },
  {
   "cell_type": "code",
   "execution_count": 111,
   "metadata": {},
   "outputs": [
    {
     "name": "stdout",
     "output_type": "stream",
     "text": [
      "Maximum fare_amount: 300.0\n",
      "(978252, 6)\n"
     ]
    },
    {
     "data": {
      "text/html": [
       "<div>\n",
       "<style scoped>\n",
       "    .dataframe tbody tr th:only-of-type {\n",
       "        vertical-align: middle;\n",
       "    }\n",
       "\n",
       "    .dataframe tbody tr th {\n",
       "        vertical-align: top;\n",
       "    }\n",
       "\n",
       "    .dataframe thead th {\n",
       "        text-align: right;\n",
       "    }\n",
       "</style>\n",
       "<table border=\"1\" class=\"dataframe\">\n",
       "  <thead>\n",
       "    <tr style=\"text-align: right;\">\n",
       "      <th></th>\n",
       "      <th>fare_amount</th>\n",
       "      <th>pickup_longitude</th>\n",
       "      <th>pickup_latitude</th>\n",
       "      <th>dropoff_longitude</th>\n",
       "      <th>dropoff_latitude</th>\n",
       "      <th>period</th>\n",
       "    </tr>\n",
       "  </thead>\n",
       "  <tbody>\n",
       "    <tr>\n",
       "      <th>0</th>\n",
       "      <td>11.7</td>\n",
       "      <td>-73.998199</td>\n",
       "      <td>40.730412</td>\n",
       "      <td>-73.980789</td>\n",
       "      <td>40.767326</td>\n",
       "      <td>0</td>\n",
       "    </tr>\n",
       "    <tr>\n",
       "      <th>1</th>\n",
       "      <td>11.5</td>\n",
       "      <td>-73.960541</td>\n",
       "      <td>40.775360</td>\n",
       "      <td>-73.959793</td>\n",
       "      <td>40.775429</td>\n",
       "      <td>1</td>\n",
       "    </tr>\n",
       "    <tr>\n",
       "      <th>2</th>\n",
       "      <td>12.1</td>\n",
       "      <td>-73.984703</td>\n",
       "      <td>40.742599</td>\n",
       "      <td>-73.944702</td>\n",
       "      <td>40.780399</td>\n",
       "      <td>0</td>\n",
       "    </tr>\n",
       "    <tr>\n",
       "      <th>3</th>\n",
       "      <td>4.5</td>\n",
       "      <td>-73.986992</td>\n",
       "      <td>40.751293</td>\n",
       "      <td>-73.980659</td>\n",
       "      <td>40.758965</td>\n",
       "      <td>0</td>\n",
       "    </tr>\n",
       "    <tr>\n",
       "      <th>4</th>\n",
       "      <td>4.5</td>\n",
       "      <td>-73.953796</td>\n",
       "      <td>40.771084</td>\n",
       "      <td>-73.947227</td>\n",
       "      <td>40.775784</td>\n",
       "      <td>0</td>\n",
       "    </tr>\n",
       "  </tbody>\n",
       "</table>\n",
       "</div>"
      ],
      "text/plain": [
       "   fare_amount  pickup_longitude  pickup_latitude  dropoff_longitude  \\\n",
       "0         11.7        -73.998199        40.730412         -73.980789   \n",
       "1         11.5        -73.960541        40.775360         -73.959793   \n",
       "2         12.1        -73.984703        40.742599         -73.944702   \n",
       "3          4.5        -73.986992        40.751293         -73.980659   \n",
       "4          4.5        -73.953796        40.771084         -73.947227   \n",
       "\n",
       "   dropoff_latitude  period  \n",
       "0         40.767326       0  \n",
       "1         40.775429       1  \n",
       "2         40.780399       0  \n",
       "3         40.758965       0  \n",
       "4         40.775784       0  "
      ]
     },
     "execution_count": 111,
     "metadata": {},
     "output_type": "execute_result"
    }
   ],
   "source": [
    "train_df = transform_train(train_df)\n",
    "train_df.head()"
   ]
  },
  {
   "cell_type": "code",
   "execution_count": 112,
   "metadata": {},
   "outputs": [
    {
     "data": {
      "text/plain": [
       "(9783, 5)"
      ]
     },
     "execution_count": 112,
     "metadata": {},
     "output_type": "execute_result"
    }
   ],
   "source": [
    "from sklearn.model_selection import train_test_split\n",
    "\n",
    "X = train_df.iloc[:,1:]\n",
    "y = train_df.iloc[:,0]\n",
    "\n",
    "seed = 101\n",
    "\n",
    "X_train, X_test, y_train, y_test = train_test_split(X, y,\n",
    "                                                   test_size=0.01, random_state=seed)\n",
    "X_test.shape"
   ]
  },
  {
   "cell_type": "code",
   "execution_count": 113,
   "metadata": {},
   "outputs": [],
   "source": [
    "from sklearn.preprocessing import StandardScaler\n",
    "\n",
    "sc = StandardScaler()\n",
    "X_train = sc.fit_transform(X_train)\n",
    "X_test = sc.transform(X_test)"
   ]
  },
  {
   "cell_type": "code",
   "execution_count": 114,
   "metadata": {},
   "outputs": [
    {
     "name": "stdout",
     "output_type": "stream",
     "text": [
      "CPU times: user 5.12 s, sys: 31.5 ms, total: 5.15 s\n",
      "Wall time: 5.14 s\n"
     ]
    }
   ],
   "source": [
    "%%time\n",
    "from sklearn.neighbors import KNeighborsRegressor\n",
    "\n",
    "neigh = KNeighborsRegressor(n_neighbors=10, n_jobs=4)\n",
    "neigh.fit(X_train, y_train)"
   ]
  },
  {
   "cell_type": "code",
   "execution_count": 115,
   "metadata": {},
   "outputs": [],
   "source": [
    "y_pred = neigh.predict(X_train)\n",
    "y_pred_test = neigh.predict(X_test)"
   ]
  },
  {
   "cell_type": "code",
   "execution_count": 123,
   "metadata": {},
   "outputs": [
    {
     "name": "stdout",
     "output_type": "stream",
     "text": [
      "R^2: 0.8727\n",
      "MSE: 11.7196\n",
      "MAE: 1.5939\n",
      "rms: 3.4234\n"
     ]
    },
    {
     "data": {
      "image/png": "[encoded data removed]",
      "text/plain": [
       "<Figure size 1080x1440 with 4 Axes>"
      ]
     },
     "metadata": {},
     "output_type": "display_data"
    },
    {
     "name": "stdout",
     "output_type": "stream",
     "text": [
      "RMSE KNN: 3.50667\n"
     ]
    }
   ],
   "source": [
    "K = X_train.shape[1]+1\n",
    "rms = np.sqrt(sum((y_train-y_pred)**2)/(len(y_train)-K))\n",
    "\n",
    "import matplotlib.pyplot as plt\n",
    "%matplotlib inline\n",
    "from sklearn.metrics import r2_score\n",
    "from sklearn.metrics import mean_squared_error\n",
    "from sklearn.metrics import mean_absolute_error\n",
    "\n",
    "print('R^2: %.4f' % r2_score(y_train,y_pred))\n",
    "print('MSE: %.4f' % mean_squared_error(y_train,y_pred))\n",
    "print('MAE: %.4f' % mean_absolute_error(y_train,y_pred))\n",
    "print('rms: %.4f' % rms)\n",
    "\n",
    "plt.figure(figsize=(15, 20))\n",
    "ax1 = plt.subplot(221)\n",
    "ax1.scatter(y_pred, y_train, c = 'blue', alpha = 0.5)\n",
    "ax1.plot((0,300),(0,300), c = 'black', linestyle = 'dashed')\n",
    "ax1.set_title('Training Set')\n",
    "ax1.set_xlabel('y_pred_train')\n",
    "ax1.set_ylabel('y_train')\n",
    "ax1.set_xlim(0,300)\n",
    "ax1.set_ylim(0,300)\n",
    "\n",
    "ax2 = plt.subplot(222)\n",
    "ax2.scatter(y_pred, y_pred - y_train, c = 'blue', alpha = 0.5)\n",
    "ax2.plot((0,300),(0,0), c = 'black', linestyle = 'dashed')\n",
    "ax2.set_title('Training Set')\n",
    "ax2.set_xlabel('y_pred_train')\n",
    "ax2.set_ylabel('Residuals')\n",
    "ax2.set_xlim(0,300)\n",
    "\n",
    "ax3 = plt.subplot(223)\n",
    "ax3.scatter(y_pred_test, y_test, c = 'green', alpha = 0.5)\n",
    "ax3.plot((0,300),(0,300), c = 'black', linestyle = 'dashed')\n",
    "ax3.set_title('Test Set')\n",
    "ax3.set_xlabel('y_pred_test')\n",
    "ax3.set_ylabel('y_train')\n",
    "ax3.set_xlim(0,300)\n",
    "ax3.set_ylim(0,300)\n",
    "\n",
    "ax4 = plt.subplot(224)\n",
    "ax4.scatter(y_pred_test, y_pred_test - y_test, c = 'green', alpha = 0.5)\n",
    "ax4.plot((0,300),(0,0), c = 'black', linestyle = 'dashed')\n",
    "ax4.set_title('Test Set')\n",
    "ax4.set_xlabel('y_pred_test')\n",
    "ax4.set_ylabel('Residuals')\n",
    "ax4.set_xlim(0,300)\n",
    "\n",
    "plt.subplots_adjust(wspace=0.4, top=0.5)\n",
    "plt.show()\n",
    "\n",
    "print('RMSE KNN: %.5f' % np.sqrt(mean_squared_error(y_pred_test,y_test)))"
   ]
  },
  {
   "cell_type": "code",
   "execution_count": 124,
   "metadata": {},
   "outputs": [
    {
     "data": {
      "text/plain": [
       "(253,)"
      ]
     },
     "execution_count": 124,
     "metadata": {},
     "output_type": "execute_result"
    }
   ],
   "source": [
    "# Find outliers\n",
    "res = y_pred - y_train\n",
    "out = res[(res<-50) & (res<-50)].index\n",
    "out.shape"
   ]
  },
  {
   "cell_type": "code",
   "execution_count": 125,
   "metadata": {},
   "outputs": [
    {
     "data": {
      "text/plain": [
       "Int64Index([650385, 907744,  76335, 552050, 115412, 997935, 348043, 426393,\n",
       "            672909, 376165,\n",
       "            ...\n",
       "            985174, 273204, 212255, 541146, 457760, 433443, 953674, 269021,\n",
       "            456864, 363565],\n",
       "           dtype='int64', length=253)"
      ]
     },
     "execution_count": 125,
     "metadata": {},
     "output_type": "execute_result"
    }
   ],
   "source": [
    "out"
   ]
  },
  {
   "cell_type": "markdown",
   "metadata": {},
   "source": [
    "# Learn the model with no outliers"
   ]
  },
  {
   "cell_type": "code",
   "execution_count": 126,
   "metadata": {},
   "outputs": [
    {
     "name": "stdout",
     "output_type": "stream",
     "text": [
      "(999747, 6)\n"
     ]
    }
   ],
   "source": [
    "types = {'fare_amount': 'float32',\n",
    "         'pickup_longitude': 'float32',\n",
    "         'pickup_latitude': 'float32',\n",
    "         'dropoff_longitude': 'float32',\n",
    "         'dropoff_latitude': 'float32'}\n",
    "\n",
    "cols = ['fare_amount', 'pickup_datetime',\n",
    "        'pickup_longitude', 'pickup_latitude',\n",
    "        'dropoff_longitude', 'dropoff_latitude']\n",
    "\n",
    "train_df = read_csv('train1M.csv', parse_dates=['pickup_datetime'], infer_datetime_format=True,\n",
    "                   dtype = types, usecols=cols)\n",
    "train_df = train_df.drop(out)\n",
    "print(train_df.shape)"
   ]
  },
  {
   "cell_type": "code",
   "execution_count": 127,
   "metadata": {},
   "outputs": [
    {
     "name": "stdout",
     "output_type": "stream",
     "text": [
      "Maximum fare_amount: 277.8\n",
      "(977999, 6)\n"
     ]
    },
    {
     "data": {
      "text/html": [
       "<div>\n",
       "<style scoped>\n",
       "    .dataframe tbody tr th:only-of-type {\n",
       "        vertical-align: middle;\n",
       "    }\n",
       "\n",
       "    .dataframe tbody tr th {\n",
       "        vertical-align: top;\n",
       "    }\n",
       "\n",
       "    .dataframe thead th {\n",
       "        text-align: right;\n",
       "    }\n",
       "</style>\n",
       "<table border=\"1\" class=\"dataframe\">\n",
       "  <thead>\n",
       "    <tr style=\"text-align: right;\">\n",
       "      <th></th>\n",
       "      <th>fare_amount</th>\n",
       "      <th>pickup_longitude</th>\n",
       "      <th>pickup_latitude</th>\n",
       "      <th>dropoff_longitude</th>\n",
       "      <th>dropoff_latitude</th>\n",
       "      <th>period</th>\n",
       "    </tr>\n",
       "  </thead>\n",
       "  <tbody>\n",
       "    <tr>\n",
       "      <th>0</th>\n",
       "      <td>11.7</td>\n",
       "      <td>-73.998199</td>\n",
       "      <td>40.730412</td>\n",
       "      <td>-73.980789</td>\n",
       "      <td>40.767326</td>\n",
       "      <td>0</td>\n",
       "    </tr>\n",
       "    <tr>\n",
       "      <th>1</th>\n",
       "      <td>11.5</td>\n",
       "      <td>-73.960541</td>\n",
       "      <td>40.775360</td>\n",
       "      <td>-73.959793</td>\n",
       "      <td>40.775429</td>\n",
       "      <td>1</td>\n",
       "    </tr>\n",
       "    <tr>\n",
       "      <th>2</th>\n",
       "      <td>12.1</td>\n",
       "      <td>-73.984703</td>\n",
       "      <td>40.742599</td>\n",
       "      <td>-73.944702</td>\n",
       "      <td>40.780399</td>\n",
       "      <td>0</td>\n",
       "    </tr>\n",
       "    <tr>\n",
       "      <th>3</th>\n",
       "      <td>4.5</td>\n",
       "      <td>-73.986992</td>\n",
       "      <td>40.751293</td>\n",
       "      <td>-73.980659</td>\n",
       "      <td>40.758965</td>\n",
       "      <td>0</td>\n",
       "    </tr>\n",
       "    <tr>\n",
       "      <th>4</th>\n",
       "      <td>4.5</td>\n",
       "      <td>-73.953796</td>\n",
       "      <td>40.771084</td>\n",
       "      <td>-73.947227</td>\n",
       "      <td>40.775784</td>\n",
       "      <td>0</td>\n",
       "    </tr>\n",
       "  </tbody>\n",
       "</table>\n",
       "</div>"
      ],
      "text/plain": [
       "   fare_amount  pickup_longitude  pickup_latitude  dropoff_longitude  \\\n",
       "0         11.7        -73.998199        40.730412         -73.980789   \n",
       "1         11.5        -73.960541        40.775360         -73.959793   \n",
       "2         12.1        -73.984703        40.742599         -73.944702   \n",
       "3          4.5        -73.986992        40.751293         -73.980659   \n",
       "4          4.5        -73.953796        40.771084         -73.947227   \n",
       "\n",
       "   dropoff_latitude  period  \n",
       "0         40.767326       0  \n",
       "1         40.775429       1  \n",
       "2         40.780399       0  \n",
       "3         40.758965       0  \n",
       "4         40.775784       0  "
      ]
     },
     "execution_count": 127,
     "metadata": {},
     "output_type": "execute_result"
    }
   ],
   "source": [
    "train_df = transform_train(train_df)\n",
    "train_df.head()"
   ]
  },
  {
   "cell_type": "code",
   "execution_count": 128,
   "metadata": {},
   "outputs": [
    {
     "data": {
      "text/plain": [
       "(9780, 5)"
      ]
     },
     "execution_count": 128,
     "metadata": {},
     "output_type": "execute_result"
    }
   ],
   "source": [
    "from sklearn.model_selection import train_test_split\n",
    "\n",
    "X = train_df.iloc[:,1:]\n",
    "y = train_df.iloc[:,0]\n",
    "\n",
    "seed = 101\n",
    "\n",
    "X_train, X_test, y_train, y_test = train_test_split(X, y,\n",
    "                                                   test_size=0.01, random_state=seed)\n",
    "X_test.shape"
   ]
  },
  {
   "cell_type": "code",
   "execution_count": 129,
   "metadata": {},
   "outputs": [],
   "source": [
    "from sklearn.preprocessing import StandardScaler\n",
    "\n",
    "sc = StandardScaler()\n",
    "X_train = sc.fit_transform(X_train)\n",
    "X_test = sc.transform(X_test)"
   ]
  },
  {
   "cell_type": "code",
   "execution_count": 130,
   "metadata": {},
   "outputs": [
    {
     "name": "stdout",
     "output_type": "stream",
     "text": [
      "CPU times: user 5.25 s, sys: 47.5 ms, total: 5.29 s\n",
      "Wall time: 5.26 s\n"
     ]
    }
   ],
   "source": [
    "%%time\n",
    "from sklearn.neighbors import KNeighborsRegressor\n",
    "\n",
    "neigh = KNeighborsRegressor(n_neighbors=10, n_jobs=4)\n",
    "neigh.fit(X_train, y_train)"
   ]
  },
  {
   "cell_type": "code",
   "execution_count": 131,
   "metadata": {},
   "outputs": [],
   "source": [
    "y_pred = neigh.predict(X_train)\n",
    "y_pred_test = neigh.predict(X_test)"
   ]
  },
  {
   "cell_type": "code",
   "execution_count": 132,
   "metadata": {},
   "outputs": [
    {
     "name": "stdout",
     "output_type": "stream",
     "text": [
      "R^2: 0.8889\n",
      "MSE: 9.8735\n",
      "MAE: 1.5660\n",
      "rms: 3.1422\n"
     ]
    },
    {
     "data": {
      "image/png": "[encoded data removed]",
      "text/plain": [
       "<Figure size 1080x1440 with 4 Axes>"
      ]
     },
     "metadata": {},
     "output_type": "display_data"
    },
    {
     "name": "stdout",
     "output_type": "stream",
     "text": [
      "RMSE KNN: 3.55115\n"
     ]
    }
   ],
   "source": [
    "K = X_train.shape[1]+1\n",
    "rms = np.sqrt(sum((y_train-y_pred)**2)/(len(y_train)-K))\n",
    "\n",
    "import matplotlib.pyplot as plt\n",
    "%matplotlib inline\n",
    "from sklearn.metrics import r2_score\n",
    "from sklearn.metrics import mean_squared_error\n",
    "from sklearn.metrics import mean_absolute_error\n",
    "\n",
    "print('R^2: %.4f' % r2_score(y_train,y_pred))\n",
    "print('MSE: %.4f' % mean_squared_error(y_train,y_pred))\n",
    "print('MAE: %.4f' % mean_absolute_error(y_train,y_pred))\n",
    "print('rms: %.4f' % rms)\n",
    "\n",
    "plt.figure(figsize=(15, 20))\n",
    "ax1 = plt.subplot(221)\n",
    "ax1.scatter(y_pred, y_train, c = 'blue', alpha = 0.5)\n",
    "ax1.plot((0,300),(0,300), c = 'black', linestyle = 'dashed')\n",
    "ax1.set_title('Training Set')\n",
    "ax1.set_xlabel('y_pred_train')\n",
    "ax1.set_ylabel('y_train')\n",
    "ax1.set_xlim(0,300)\n",
    "ax1.set_ylim(0,300)\n",
    "\n",
    "ax2 = plt.subplot(222)\n",
    "ax2.scatter(y_pred, y_pred - y_train, c = 'blue', alpha = 0.5)\n",
    "ax2.plot((0,300),(0,0), c = 'black', linestyle = 'dashed')\n",
    "ax2.set_title('Training Set')\n",
    "ax2.set_xlabel('y_pred_train')\n",
    "ax2.set_ylabel('Residuals')\n",
    "ax2.set_xlim(0,300)\n",
    "\n",
    "ax3 = plt.subplot(223)\n",
    "ax3.scatter(y_pred_test, y_test, c = 'green', alpha = 0.5)\n",
    "ax3.plot((0,300),(0,300), c = 'black', linestyle = 'dashed')\n",
    "ax3.set_title('Test Set')\n",
    "ax3.set_xlabel('y_pred_test')\n",
    "ax3.set_ylabel('y_train')\n",
    "ax3.set_xlim(0,300)\n",
    "ax3.set_ylim(0,300)\n",
    "\n",
    "ax4 = plt.subplot(224)\n",
    "ax4.scatter(y_pred_test, y_pred_test - y_test, c = 'green', alpha = 0.5)\n",
    "ax4.plot((0,300),(0,0), c = 'black', linestyle = 'dashed')\n",
    "ax4.set_title('Test Set')\n",
    "ax4.set_xlabel('y_pred_test')\n",
    "ax4.set_ylabel('Residuals')\n",
    "ax4.set_xlim(0,300)\n",
    "\n",
    "plt.subplots_adjust(wspace=0.4, top=0.5)\n",
    "plt.show()\n",
    "\n",
    "print('RMSE KNN: %.5f' % np.sqrt(mean_squared_error(y_pred_test,y_test)))"
   ]
  },
  {
   "cell_type": "code",
   "execution_count": null,
   "metadata": {},
   "outputs": [],
   "source": []
  }
 ],
 "metadata": {
  "kernelspec": {
   "display_name": "Python 3",
   "language": "python",
   "name": "python3"
  },
  "language_info": {
   "codemirror_mode": {
    "name": "ipython",
    "version": 3
   },
   "file_extension": ".py",
   "mimetype": "text/x-python",
   "name": "python",
   "nbconvert_exporter": "python",
   "pygments_lexer": "ipython3",
   "version": "3.6.6"
  }
 },
 "nbformat": 4,
 "nbformat_minor": 2
}
